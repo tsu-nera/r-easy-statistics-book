{
 "cells": [
  {
   "cell_type": "markdown",
   "metadata": {},
   "source": [
    "# Chapter1"
   ]
  },
  {
   "cell_type": "code",
   "execution_count": 2,
   "metadata": {
    "collapsed": false
   },
   "outputs": [
    {
     "data": {
      "text/html": [
       "8"
      ],
      "text/latex": [
       "8"
      ],
      "text/markdown": [
       "8"
      ],
      "text/plain": [
       "[1] 8"
      ]
     },
     "metadata": {},
     "output_type": "display_data"
    }
   ],
   "source": [
    "3+5"
   ]
  },
  {
   "cell_type": "code",
   "execution_count": 3,
   "metadata": {
    "collapsed": false
   },
   "outputs": [
    {
     "data": {
      "text/html": [
       "7"
      ],
      "text/latex": [
       "7"
      ],
      "text/markdown": [
       "7"
      ],
      "text/plain": [
       "[1] 7"
      ]
     },
     "metadata": {},
     "output_type": "display_data"
    }
   ],
   "source": [
    "10-3"
   ]
  },
  {
   "cell_type": "code",
   "execution_count": 4,
   "metadata": {
    "collapsed": false
   },
   "outputs": [
    {
     "data": {
      "text/html": [
       "6"
      ],
      "text/latex": [
       "6"
      ],
      "text/markdown": [
       "6"
      ],
      "text/plain": [
       "[1] 6"
      ]
     },
     "metadata": {},
     "output_type": "display_data"
    }
   ],
   "source": [
    "2*3"
   ]
  },
  {
   "cell_type": "code",
   "execution_count": 5,
   "metadata": {
    "collapsed": false
   },
   "outputs": [
    {
     "data": {
      "text/html": [
       "5"
      ],
      "text/latex": [
       "5"
      ],
      "text/markdown": [
       "5"
      ],
      "text/plain": [
       "[1] 5"
      ]
     },
     "metadata": {},
     "output_type": "display_data"
    }
   ],
   "source": [
    "20/4"
   ]
  },
  {
   "cell_type": "code",
   "execution_count": 6,
   "metadata": {
    "collapsed": false
   },
   "outputs": [
    {
     "data": {
      "text/html": [
       "4"
      ],
      "text/latex": [
       "4"
      ],
      "text/markdown": [
       "4"
      ],
      "text/plain": [
       "[1] 4"
      ]
     },
     "metadata": {},
     "output_type": "display_data"
    }
   ],
   "source": [
    "sqrt(16)"
   ]
  },
  {
   "cell_type": "code",
   "execution_count": 7,
   "metadata": {
    "collapsed": false
   },
   "outputs": [
    {
     "data": {
      "text/html": [
       "4"
      ],
      "text/latex": [
       "4"
      ],
      "text/markdown": [
       "4"
      ],
      "text/plain": [
       "[1] 4"
      ]
     },
     "metadata": {},
     "output_type": "display_data"
    }
   ],
   "source": [
    "2^2"
   ]
  },
  {
   "cell_type": "code",
   "execution_count": 9,
   "metadata": {
    "collapsed": false
   },
   "outputs": [
    {
     "data": {
      "text/plain": [
       "   Min. 1st Qu.  Median    Mean 3rd Qu.    Max. \n",
       "  173.0   175.0   179.0   179.4   181.5   192.0 "
      ]
     },
     "metadata": {},
     "output_type": "display_data"
    }
   ],
   "source": [
    "summary(c(173,178,180,183,182,174,179,179,174,192))"
   ]
  },
  {
   "cell_type": "code",
   "execution_count": 10,
   "metadata": {
    "collapsed": true
   },
   "outputs": [],
   "source": [
    "身長 <- c(173,178,180,183,182,174,179,179,174,192)"
   ]
  },
  {
   "cell_type": "code",
   "execution_count": 11,
   "metadata": {
    "collapsed": false
   },
   "outputs": [
    {
     "data": {
      "text/html": [
       "<ol class=list-inline>\n",
       "\t<li>173</li>\n",
       "\t<li>178</li>\n",
       "\t<li>180</li>\n",
       "\t<li>183</li>\n",
       "\t<li>182</li>\n",
       "\t<li>174</li>\n",
       "\t<li>179</li>\n",
       "\t<li>179</li>\n",
       "\t<li>174</li>\n",
       "\t<li>192</li>\n",
       "</ol>\n"
      ],
      "text/latex": [
       "\\begin{enumerate*}\n",
       "\\item 173\n",
       "\\item 178\n",
       "\\item 180\n",
       "\\item 183\n",
       "\\item 182\n",
       "\\item 174\n",
       "\\item 179\n",
       "\\item 179\n",
       "\\item 174\n",
       "\\item 192\n",
       "\\end{enumerate*}\n"
      ],
      "text/markdown": [
       "1. 173\n",
       "2. 178\n",
       "3. 180\n",
       "4. 183\n",
       "5. 182\n",
       "6. 174\n",
       "7. 179\n",
       "8. 179\n",
       "9. 174\n",
       "10. 192\n",
       "\n",
       "\n"
      ],
      "text/plain": [
       " [1] 173 178 180 183 182 174 179 179 174 192"
      ]
     },
     "metadata": {},
     "output_type": "display_data"
    }
   ],
   "source": [
    "身長"
   ]
  },
  {
   "cell_type": "code",
   "execution_count": 12,
   "metadata": {
    "collapsed": true
   },
   "outputs": [],
   "source": [
    "ホークス <- matrix(c(173,178,180,183,182,174,179,179,174,192,\n",
    "17000,14000,9000,50000,30000,12000,900,2100,1000,25000),10,2)"
   ]
  },
  {
   "cell_type": "code",
   "execution_count": 13,
   "metadata": {
    "collapsed": false
   },
   "outputs": [
    {
     "data": {
      "text/html": [
       "<table>\n",
       "<tbody>\n",
       "\t<tr><td>173  </td><td>17000</td></tr>\n",
       "\t<tr><td>178  </td><td>14000</td></tr>\n",
       "\t<tr><td>180  </td><td> 9000</td></tr>\n",
       "\t<tr><td>183  </td><td>50000</td></tr>\n",
       "\t<tr><td>182  </td><td>30000</td></tr>\n",
       "\t<tr><td>174  </td><td>12000</td></tr>\n",
       "\t<tr><td>179  </td><td>  900</td></tr>\n",
       "\t<tr><td>179  </td><td> 2100</td></tr>\n",
       "\t<tr><td>174  </td><td> 1000</td></tr>\n",
       "\t<tr><td>192  </td><td>25000</td></tr>\n",
       "</tbody>\n",
       "</table>\n"
      ],
      "text/latex": [
       "\\begin{tabular}{ll}\n",
       "\t 173   & 17000\\\\\n",
       "\t 178   & 14000\\\\\n",
       "\t 180   &  9000\\\\\n",
       "\t 183   & 50000\\\\\n",
       "\t 182   & 30000\\\\\n",
       "\t 174   & 12000\\\\\n",
       "\t 179   &   900\\\\\n",
       "\t 179   &  2100\\\\\n",
       "\t 174   &  1000\\\\\n",
       "\t 192   & 25000\\\\\n",
       "\\end{tabular}\n"
      ],
      "text/markdown": [
       "\n",
       "| 173   | 17000 | \n",
       "| 178   | 14000 | \n",
       "| 180   |  9000 | \n",
       "| 183   | 50000 | \n",
       "| 182   | 30000 | \n",
       "| 174   | 12000 | \n",
       "| 179   |   900 | \n",
       "| 179   |  2100 | \n",
       "| 174   |  1000 | \n",
       "| 192   | 25000 | \n",
       "\n",
       "\n"
      ],
      "text/plain": [
       "      [,1] [,2] \n",
       " [1,] 173  17000\n",
       " [2,] 178  14000\n",
       " [3,] 180   9000\n",
       " [4,] 183  50000\n",
       " [5,] 182  30000\n",
       " [6,] 174  12000\n",
       " [7,] 179    900\n",
       " [8,] 179   2100\n",
       " [9,] 174   1000\n",
       "[10,] 192  25000"
      ]
     },
     "metadata": {},
     "output_type": "display_data"
    }
   ],
   "source": [
    "ホークス"
   ]
  },
  {
   "cell_type": "code",
   "execution_count": 16,
   "metadata": {
    "collapsed": true
   },
   "outputs": [],
   "source": [
    "ホークス2 <- read.csv(\"data/hawks.csv\")"
   ]
  },
  {
   "cell_type": "code",
   "execution_count": 17,
   "metadata": {
    "collapsed": false
   },
   "outputs": [
    {
     "data": {
      "text/html": [
       "<table>\n",
       "<thead><tr><th scope=col>height</th><th scope=col>saraly</th></tr></thead>\n",
       "<tbody>\n",
       "\t<tr><td>173  </td><td>17000</td></tr>\n",
       "\t<tr><td>178  </td><td>14000</td></tr>\n",
       "\t<tr><td>180  </td><td> 9000</td></tr>\n",
       "\t<tr><td>183  </td><td>50000</td></tr>\n",
       "\t<tr><td>182  </td><td>30000</td></tr>\n",
       "\t<tr><td>174  </td><td>12000</td></tr>\n",
       "\t<tr><td>179  </td><td>  900</td></tr>\n",
       "\t<tr><td>179  </td><td> 2100</td></tr>\n",
       "\t<tr><td>174  </td><td> 1000</td></tr>\n",
       "\t<tr><td>192  </td><td>25000</td></tr>\n",
       "</tbody>\n",
       "</table>\n"
      ],
      "text/latex": [
       "\\begin{tabular}{r|ll}\n",
       " height & saraly\\\\\n",
       "\\hline\n",
       "\t 173   & 17000\\\\\n",
       "\t 178   & 14000\\\\\n",
       "\t 180   &  9000\\\\\n",
       "\t 183   & 50000\\\\\n",
       "\t 182   & 30000\\\\\n",
       "\t 174   & 12000\\\\\n",
       "\t 179   &   900\\\\\n",
       "\t 179   &  2100\\\\\n",
       "\t 174   &  1000\\\\\n",
       "\t 192   & 25000\\\\\n",
       "\\end{tabular}\n"
      ],
      "text/markdown": [
       "\n",
       "height | saraly | \n",
       "|---|---|---|---|---|---|---|---|---|---|\n",
       "| 173   | 17000 | \n",
       "| 178   | 14000 | \n",
       "| 180   |  9000 | \n",
       "| 183   | 50000 | \n",
       "| 182   | 30000 | \n",
       "| 174   | 12000 | \n",
       "| 179   |   900 | \n",
       "| 179   |  2100 | \n",
       "| 174   |  1000 | \n",
       "| 192   | 25000 | \n",
       "\n",
       "\n"
      ],
      "text/plain": [
       "   height saraly\n",
       "1  173    17000 \n",
       "2  178    14000 \n",
       "3  180     9000 \n",
       "4  183    50000 \n",
       "5  182    30000 \n",
       "6  174    12000 \n",
       "7  179      900 \n",
       "8  179     2100 \n",
       "9  174     1000 \n",
       "10 192    25000 "
      ]
     },
     "metadata": {},
     "output_type": "display_data"
    }
   ],
   "source": [
    "ホークス2"
   ]
  },
  {
   "cell_type": "code",
   "execution_count": 18,
   "metadata": {
    "collapsed": true
   },
   "outputs": [],
   "source": [
    "varp <- function(x) {\n",
    "    標本分散 <- var(x) * (length(x)-1)/length(x)\n",
    "    標本分散\n",
    "}"
   ]
  },
  {
   "cell_type": "code",
   "execution_count": 19,
   "metadata": {
    "collapsed": true
   },
   "outputs": [],
   "source": [
    "x <- c(10,13,8,15,8)"
   ]
  },
  {
   "cell_type": "code",
   "execution_count": 20,
   "metadata": {
    "collapsed": false
   },
   "outputs": [
    {
     "data": {
      "text/html": [
       "<ol class=list-inline>\n",
       "\t<li>10</li>\n",
       "\t<li>13</li>\n",
       "\t<li>8</li>\n",
       "\t<li>15</li>\n",
       "\t<li>8</li>\n",
       "</ol>\n"
      ],
      "text/latex": [
       "\\begin{enumerate*}\n",
       "\\item 10\n",
       "\\item 13\n",
       "\\item 8\n",
       "\\item 15\n",
       "\\item 8\n",
       "\\end{enumerate*}\n"
      ],
      "text/markdown": [
       "1. 10\n",
       "2. 13\n",
       "3. 8\n",
       "4. 15\n",
       "5. 8\n",
       "\n",
       "\n"
      ],
      "text/plain": [
       "[1] 10 13  8 15  8"
      ]
     },
     "metadata": {},
     "output_type": "display_data"
    }
   ],
   "source": [
    "x"
   ]
  },
  {
   "cell_type": "code",
   "execution_count": 21,
   "metadata": {
    "collapsed": false
   },
   "outputs": [
    {
     "data": {
      "text/html": [
       "9.7"
      ],
      "text/latex": [
       "9.7"
      ],
      "text/markdown": [
       "9.7"
      ],
      "text/plain": [
       "[1] 9.7"
      ]
     },
     "metadata": {},
     "output_type": "display_data"
    }
   ],
   "source": [
    "var(x)"
   ]
  },
  {
   "cell_type": "code",
   "execution_count": 22,
   "metadata": {
    "collapsed": false
   },
   "outputs": [
    {
     "data": {
      "text/html": [
       "7.76"
      ],
      "text/latex": [
       "7.76"
      ],
      "text/markdown": [
       "7.76"
      ],
      "text/plain": [
       "[1] 7.76"
      ]
     },
     "metadata": {},
     "output_type": "display_data"
    }
   ],
   "source": [
    "varp(x)"
   ]
  },
  {
   "cell_type": "code",
   "execution_count": null,
   "metadata": {
    "collapsed": true
   },
   "outputs": [],
   "source": []
  }
 ],
 "metadata": {
  "kernelspec": {
   "display_name": "R",
   "language": "R",
   "name": "ir"
  },
  "language_info": {
   "codemirror_mode": "r",
   "file_extension": ".r",
   "mimetype": "text/x-r-source",
   "name": "R",
   "pygments_lexer": "r",
   "version": "3.4.1"
  },
  "toc": {
   "colors": {
    "hover_highlight": "#DAA520",
    "navigate_num": "#000000",
    "navigate_text": "#333333",
    "running_highlight": "#FF0000",
    "selected_highlight": "#FFD700",
    "sidebar_border": "#EEEEEE",
    "wrapper_background": "#FFFFFF"
   },
   "moveMenuLeft": true,
   "nav_menu": {
    "height": "55px",
    "width": "254px"
   },
   "navigate_menu": true,
   "number_sections": false,
   "sideBar": true,
   "threshold": 4,
   "toc_cell": false,
   "toc_section_display": "block",
   "toc_window_display": false,
   "widenNotebook": false
  }
 },
 "nbformat": 4,
 "nbformat_minor": 2
}
