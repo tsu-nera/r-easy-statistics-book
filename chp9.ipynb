{
 "cells": [
  {
   "cell_type": "markdown",
   "metadata": {
    "deletable": true,
    "editable": true
   },
   "source": [
    "# Chapter9"
   ]
  },
  {
   "cell_type": "code",
   "execution_count": 5,
   "metadata": {
    "collapsed": true,
    "deletable": true,
    "editable": true
   },
   "outputs": [],
   "source": [
    "指導法データ <- read.csv(\"data/shidouhou.txt\", header=TRUE)"
   ]
  },
  {
   "cell_type": "code",
   "execution_count": 6,
   "metadata": {
    "collapsed": false
   },
   "outputs": [
    {
     "data": {
      "text/html": [
       "<table>\n",
       "<thead><tr><th scope=col>ID</th><th scope=col>名前</th><th scope=col>性別</th><th scope=col>数学</th><th scope=col>統計</th><th scope=col>心理学テスト</th><th scope=col>統計テスト1</th><th scope=col>統計テスト2</th><th scope=col>指導法</th></tr></thead>\n",
       "<tbody>\n",
       "\t<tr><td> 1    </td><td>大村  </td><td>男    </td><td>嫌い  </td><td>好き  </td><td>13    </td><td> 6    </td><td>10    </td><td>C     </td></tr>\n",
       "\t<tr><td> 2    </td><td>本多  </td><td>男    </td><td>嫌い  </td><td>好き  </td><td>14    </td><td>10    </td><td>13    </td><td>B     </td></tr>\n",
       "\t<tr><td> 3    </td><td>川崎  </td><td>男    </td><td>好き  </td><td>好き  </td><td> 7    </td><td> 6    </td><td> 8    </td><td>B     </td></tr>\n",
       "\t<tr><td> 4    </td><td>多村  </td><td>男    </td><td>好き  </td><td>好き  </td><td>12    </td><td>10    </td><td>15    </td><td>A     </td></tr>\n",
       "\t<tr><td> 5    </td><td>松中  </td><td>男    </td><td>嫌い  </td><td>嫌い  </td><td>10    </td><td> 5    </td><td> 8    </td><td>B     </td></tr>\n",
       "\t<tr><td> 6    </td><td>小久保</td><td>男    </td><td>嫌い  </td><td>嫌い  </td><td> 6    </td><td> 3    </td><td> 6    </td><td>C     </td></tr>\n",
       "\t<tr><td> 7    </td><td>柴原  </td><td>男    </td><td>嫌い  </td><td>嫌い  </td><td> 8    </td><td> 5    </td><td> 9    </td><td>A     </td></tr>\n",
       "\t<tr><td> 8    </td><td>井手  </td><td>男    </td><td>嫌い  </td><td>嫌い  </td><td>15    </td><td> 9    </td><td>10    </td><td>D     </td></tr>\n",
       "\t<tr><td> 9    </td><td>田上  </td><td>男    </td><td>嫌い  </td><td>嫌い  </td><td> 4    </td><td> 3    </td><td> 7    </td><td>D     </td></tr>\n",
       "\t<tr><td>10    </td><td>松田  </td><td>男    </td><td>好き  </td><td>嫌い  </td><td>14    </td><td> 3    </td><td> 3    </td><td>D     </td></tr>\n",
       "\t<tr><td>11    </td><td>高谷  </td><td>女    </td><td>好き  </td><td>好き  </td><td> 9    </td><td>11    </td><td>18    </td><td>A     </td></tr>\n",
       "\t<tr><td>12    </td><td>杉内  </td><td>女    </td><td>嫌い  </td><td>好き  </td><td> 6    </td><td> 6    </td><td>14    </td><td>A     </td></tr>\n",
       "\t<tr><td>13    </td><td>和田  </td><td>女    </td><td>好き  </td><td>好き  </td><td>10    </td><td>11    </td><td>18    </td><td>A     </td></tr>\n",
       "\t<tr><td>14    </td><td>新垣  </td><td>女    </td><td>嫌い  </td><td>嫌い  </td><td>12    </td><td> 9    </td><td>11    </td><td>C     </td></tr>\n",
       "\t<tr><td>15    </td><td>大隣  </td><td>女    </td><td>嫌い  </td><td>好き  </td><td> 5    </td><td> 7    </td><td>12    </td><td>B     </td></tr>\n",
       "\t<tr><td>16    </td><td>水田  </td><td>女    </td><td>好き  </td><td>嫌い  </td><td>12    </td><td> 5    </td><td> 5    </td><td>D     </td></tr>\n",
       "\t<tr><td>17    </td><td>斉藤  </td><td>女    </td><td>嫌い  </td><td>嫌い  </td><td> 8    </td><td> 8    </td><td> 7    </td><td>C     </td></tr>\n",
       "\t<tr><td>18    </td><td>柳瀬  </td><td>女    </td><td>嫌い  </td><td>嫌い  </td><td> 8    </td><td> 7    </td><td>12    </td><td>C     </td></tr>\n",
       "\t<tr><td>19    </td><td>佐藤  </td><td>女    </td><td>嫌い  </td><td>嫌い  </td><td>12    </td><td> 7    </td><td> 7    </td><td>B     </td></tr>\n",
       "\t<tr><td>20    </td><td>馬原  </td><td>女    </td><td>嫌い  </td><td>嫌い  </td><td>15    </td><td> 9    </td><td> 7    </td><td>D     </td></tr>\n",
       "</tbody>\n",
       "</table>\n"
      ],
      "text/latex": [
       "\\begin{tabular}{r|lllllllll}\n",
       " ID & 名前 & 性別 & 数学 & 統計 & 心理学テスト & 統計テスト1 & 統計テスト2 & 指導法\\\\\n",
       "\\hline\n",
       "\t  1     & 大村   & 男     & 嫌い   & 好き   & 13     &  6     & 10     & C     \\\\\n",
       "\t  2     & 本多   & 男     & 嫌い   & 好き   & 14     & 10     & 13     & B     \\\\\n",
       "\t  3     & 川崎   & 男     & 好き   & 好き   &  7     &  6     &  8     & B     \\\\\n",
       "\t  4     & 多村   & 男     & 好き   & 好き   & 12     & 10     & 15     & A     \\\\\n",
       "\t  5     & 松中   & 男     & 嫌い   & 嫌い   & 10     &  5     &  8     & B     \\\\\n",
       "\t  6     & 小久保 & 男     & 嫌い   & 嫌い   &  6     &  3     &  6     & C     \\\\\n",
       "\t  7     & 柴原   & 男     & 嫌い   & 嫌い   &  8     &  5     &  9     & A     \\\\\n",
       "\t  8     & 井手   & 男     & 嫌い   & 嫌い   & 15     &  9     & 10     & D     \\\\\n",
       "\t  9     & 田上   & 男     & 嫌い   & 嫌い   &  4     &  3     &  7     & D     \\\\\n",
       "\t 10     & 松田   & 男     & 好き   & 嫌い   & 14     &  3     &  3     & D     \\\\\n",
       "\t 11     & 高谷   & 女     & 好き   & 好き   &  9     & 11     & 18     & A     \\\\\n",
       "\t 12     & 杉内   & 女     & 嫌い   & 好き   &  6     &  6     & 14     & A     \\\\\n",
       "\t 13     & 和田   & 女     & 好き   & 好き   & 10     & 11     & 18     & A     \\\\\n",
       "\t 14     & 新垣   & 女     & 嫌い   & 嫌い   & 12     &  9     & 11     & C     \\\\\n",
       "\t 15     & 大隣   & 女     & 嫌い   & 好き   &  5     &  7     & 12     & B     \\\\\n",
       "\t 16     & 水田   & 女     & 好き   & 嫌い   & 12     &  5     &  5     & D     \\\\\n",
       "\t 17     & 斉藤   & 女     & 嫌い   & 嫌い   &  8     &  8     &  7     & C     \\\\\n",
       "\t 18     & 柳瀬   & 女     & 嫌い   & 嫌い   &  8     &  7     & 12     & C     \\\\\n",
       "\t 19     & 佐藤   & 女     & 嫌い   & 嫌い   & 12     &  7     &  7     & B     \\\\\n",
       "\t 20     & 馬原   & 女     & 嫌い   & 嫌い   & 15     &  9     &  7     & D     \\\\\n",
       "\\end{tabular}\n"
      ],
      "text/markdown": [
       "\n",
       "ID | 名前 | 性別 | 数学 | 統計 | 心理学テスト | 統計テスト1 | 統計テスト2 | 指導法 | \n",
       "|---|---|---|---|---|---|---|---|---|---|---|---|---|---|---|---|---|---|---|---|\n",
       "|  1     | 大村   | 男     | 嫌い   | 好き   | 13     |  6     | 10     | C      | \n",
       "|  2     | 本多   | 男     | 嫌い   | 好き   | 14     | 10     | 13     | B      | \n",
       "|  3     | 川崎   | 男     | 好き   | 好き   |  7     |  6     |  8     | B      | \n",
       "|  4     | 多村   | 男     | 好き   | 好き   | 12     | 10     | 15     | A      | \n",
       "|  5     | 松中   | 男     | 嫌い   | 嫌い   | 10     |  5     |  8     | B      | \n",
       "|  6     | 小久保 | 男     | 嫌い   | 嫌い   |  6     |  3     |  6     | C      | \n",
       "|  7     | 柴原   | 男     | 嫌い   | 嫌い   |  8     |  5     |  9     | A      | \n",
       "|  8     | 井手   | 男     | 嫌い   | 嫌い   | 15     |  9     | 10     | D      | \n",
       "|  9     | 田上   | 男     | 嫌い   | 嫌い   |  4     |  3     |  7     | D      | \n",
       "| 10     | 松田   | 男     | 好き   | 嫌い   | 14     |  3     |  3     | D      | \n",
       "| 11     | 高谷   | 女     | 好き   | 好き   |  9     | 11     | 18     | A      | \n",
       "| 12     | 杉内   | 女     | 嫌い   | 好き   |  6     |  6     | 14     | A      | \n",
       "| 13     | 和田   | 女     | 好き   | 好き   | 10     | 11     | 18     | A      | \n",
       "| 14     | 新垣   | 女     | 嫌い   | 嫌い   | 12     |  9     | 11     | C      | \n",
       "| 15     | 大隣   | 女     | 嫌い   | 好き   |  5     |  7     | 12     | B      | \n",
       "| 16     | 水田   | 女     | 好き   | 嫌い   | 12     |  5     |  5     | D      | \n",
       "| 17     | 斉藤   | 女     | 嫌い   | 嫌い   |  8     |  8     |  7     | C      | \n",
       "| 18     | 柳瀬   | 女     | 嫌い   | 嫌い   |  8     |  7     | 12     | C      | \n",
       "| 19     | 佐藤   | 女     | 嫌い   | 嫌い   | 12     |  7     |  7     | B      | \n",
       "| 20     | 馬原   | 女     | 嫌い   | 嫌い   | 15     |  9     |  7     | D      | \n",
       "\n",
       "\n"
      ],
      "text/plain": [
       "   ID 名前   性別 数学 統計 心理学テスト 統計テスト1 統計テスト2 指導法\n",
       "1   1 大村   男   嫌い 好き 13            6          10          C     \n",
       "2   2 本多   男   嫌い 好き 14           10          13          B     \n",
       "3   3 川崎   男   好き 好き  7            6           8          B     \n",
       "4   4 多村   男   好き 好き 12           10          15          A     \n",
       "5   5 松中   男   嫌い 嫌い 10            5           8          B     \n",
       "6   6 小久保 男   嫌い 嫌い  6            3           6          C     \n",
       "7   7 柴原   男   嫌い 嫌い  8            5           9          A     \n",
       "8   8 井手   男   嫌い 嫌い 15            9          10          D     \n",
       "9   9 田上   男   嫌い 嫌い  4            3           7          D     \n",
       "10 10 松田   男   好き 嫌い 14            3           3          D     \n",
       "11 11 高谷   女   好き 好き  9           11          18          A     \n",
       "12 12 杉内   女   嫌い 好き  6            6          14          A     \n",
       "13 13 和田   女   好き 好き 10           11          18          A     \n",
       "14 14 新垣   女   嫌い 嫌い 12            9          11          C     \n",
       "15 15 大隣   女   嫌い 好き  5            7          12          B     \n",
       "16 16 水田   女   好き 嫌い 12            5           5          D     \n",
       "17 17 斉藤   女   嫌い 嫌い  8            8           7          C     \n",
       "18 18 柳瀬   女   嫌い 嫌い  8            7          12          C     \n",
       "19 19 佐藤   女   嫌い 嫌い 12            7           7          B     \n",
       "20 20 馬原   女   嫌い 嫌い 15            9           7          D     "
      ]
     },
     "metadata": {},
     "output_type": "display_data"
    }
   ],
   "source": [
    "指導法データ"
   ]
  },
  {
   "cell_type": "code",
   "execution_count": 7,
   "metadata": {
    "collapsed": false
   },
   "outputs": [
    {
     "data": {
      "text/plain": [
       "\n",
       "A B C D \n",
       "5 5 5 5 "
      ]
     },
     "metadata": {},
     "output_type": "display_data"
    }
   ],
   "source": [
    "table(指導法データ $指導法)"
   ]
  },
  {
   "cell_type": "code",
   "execution_count": 8,
   "metadata": {
    "collapsed": false
   },
   "outputs": [
    {
     "data": {
      "text/plain": [
       "\n",
       "A B C D \n",
       "5 5 5 5 "
      ]
     },
     "metadata": {},
     "output_type": "display_data"
    }
   ],
   "source": [
    "table(指導法データ [,9])"
   ]
  },
  {
   "cell_type": "code",
   "execution_count": 9,
   "metadata": {
    "collapsed": false
   },
   "outputs": [
    {
     "data": {
      "image/png": "[encoded data removed]",
      "text/plain": [
       "Plot with title “Histogram of 指導法データ$心理学テスト”"
      ]
     },
     "metadata": {},
     "output_type": "display_data"
    }
   ],
   "source": [
    "hist(指導法データ$心理学テスト)"
   ]
  },
  {
   "cell_type": "code",
   "execution_count": 10,
   "metadata": {
    "collapsed": false
   },
   "outputs": [
    {
     "data": {
      "image/png": "[encoded data removed]",
      "text/plain": [
       "Plot with title “Histogram of 指導法データ[, 6]”"
      ]
     },
     "metadata": {},
     "output_type": "display_data"
    }
   ],
   "source": [
    "hist(指導法データ[,6])"
   ]
  },
  {
   "cell_type": "code",
   "execution_count": 11,
   "metadata": {
    "collapsed": false
   },
   "outputs": [
    {
     "data": {
      "text/html": [
       "11.6842105263158"
      ],
      "text/latex": [
       "11.6842105263158"
      ],
      "text/markdown": [
       "11.6842105263158"
      ],
      "text/plain": [
       "[1] 11.68421"
      ]
     },
     "metadata": {},
     "output_type": "display_data"
    }
   ],
   "source": [
    "var(指導法データ $心理学テスト )"
   ]
  },
  {
   "cell_type": "code",
   "execution_count": 12,
   "metadata": {
    "collapsed": false
   },
   "outputs": [
    {
     "data": {
      "text/html": [
       "3.41821744865885"
      ],
      "text/latex": [
       "3.41821744865885"
      ],
      "text/markdown": [
       "3.41821744865885"
      ],
      "text/plain": [
       "[1] 3.418217"
      ]
     },
     "metadata": {},
     "output_type": "display_data"
    }
   ],
   "source": [
    "sd(指導法データ $心理学テスト )"
   ]
  },
  {
   "cell_type": "code",
   "execution_count": 13,
   "metadata": {
    "collapsed": false
   },
   "outputs": [
    {
     "data": {
      "text/html": [
       "15"
      ],
      "text/latex": [
       "15"
      ],
      "text/markdown": [
       "15"
      ],
      "text/plain": [
       "[1] 15"
      ]
     },
     "metadata": {},
     "output_type": "display_data"
    }
   ],
   "source": [
    "max(指導法データ $心理学テスト )"
   ]
  },
  {
   "cell_type": "code",
   "execution_count": 14,
   "metadata": {
    "collapsed": false
   },
   "outputs": [
    {
     "data": {
      "text/html": [
       "4"
      ],
      "text/latex": [
       "4"
      ],
      "text/markdown": [
       "4"
      ],
      "text/plain": [
       "[1] 4"
      ]
     },
     "metadata": {},
     "output_type": "display_data"
    }
   ],
   "source": [
    "min(指導法データ $心理学テスト )"
   ]
  },
  {
   "cell_type": "code",
   "execution_count": 15,
   "metadata": {
    "collapsed": false
   },
   "outputs": [
    {
     "name": "stdout",
     "output_type": "stream",
     "text": [
      "[1] 10\n",
      "[1] 7\n",
      "[1] 10\n"
     ]
    }
   ],
   "source": [
    "for (i in 6:8) { print(mean(指導法データ[,i])) }\n"
   ]
  },
  {
   "cell_type": "code",
   "execution_count": 16,
   "metadata": {
    "collapsed": false
   },
   "outputs": [
    {
     "name": "stdout",
     "output_type": "stream",
     "text": [
      "[1] \"Rによるやさしい統計学\"\n"
     ]
    }
   ],
   "source": [
    "print(\"Rによるやさしい統計学\")"
   ]
  },
  {
   "cell_type": "code",
   "execution_count": 17,
   "metadata": {
    "collapsed": true
   },
   "outputs": [],
   "source": [
    "心理学z得点 <- scale(指導法データ $心理学テスト )"
   ]
  },
  {
   "cell_type": "code",
   "execution_count": 18,
   "metadata": {
    "collapsed": false
   },
   "outputs": [
    {
     "data": {
      "text/html": [
       "<table>\n",
       "<tbody>\n",
       "\t<tr><td> 0.8776504</td></tr>\n",
       "\t<tr><td> 1.1702006</td></tr>\n",
       "\t<tr><td>-0.8776504</td></tr>\n",
       "\t<tr><td> 0.5851003</td></tr>\n",
       "\t<tr><td> 0.0000000</td></tr>\n",
       "\t<tr><td>-1.1702006</td></tr>\n",
       "\t<tr><td>-0.5851003</td></tr>\n",
       "\t<tr><td> 1.4627507</td></tr>\n",
       "\t<tr><td>-1.7553009</td></tr>\n",
       "\t<tr><td> 1.1702006</td></tr>\n",
       "\t<tr><td>-0.2925501</td></tr>\n",
       "\t<tr><td>-1.1702006</td></tr>\n",
       "\t<tr><td> 0.0000000</td></tr>\n",
       "\t<tr><td> 0.5851003</td></tr>\n",
       "\t<tr><td>-1.4627507</td></tr>\n",
       "\t<tr><td> 0.5851003</td></tr>\n",
       "\t<tr><td>-0.5851003</td></tr>\n",
       "\t<tr><td>-0.5851003</td></tr>\n",
       "\t<tr><td> 0.5851003</td></tr>\n",
       "\t<tr><td> 1.4627507</td></tr>\n",
       "</tbody>\n",
       "</table>\n"
      ],
      "text/latex": [
       "\\begin{tabular}{l}\n",
       "\t  0.8776504\\\\\n",
       "\t  1.1702006\\\\\n",
       "\t -0.8776504\\\\\n",
       "\t  0.5851003\\\\\n",
       "\t  0.0000000\\\\\n",
       "\t -1.1702006\\\\\n",
       "\t -0.5851003\\\\\n",
       "\t  1.4627507\\\\\n",
       "\t -1.7553009\\\\\n",
       "\t  1.1702006\\\\\n",
       "\t -0.2925501\\\\\n",
       "\t -1.1702006\\\\\n",
       "\t  0.0000000\\\\\n",
       "\t  0.5851003\\\\\n",
       "\t -1.4627507\\\\\n",
       "\t  0.5851003\\\\\n",
       "\t -0.5851003\\\\\n",
       "\t -0.5851003\\\\\n",
       "\t  0.5851003\\\\\n",
       "\t  1.4627507\\\\\n",
       "\\end{tabular}\n"
      ],
      "text/markdown": [
       "\n",
       "|  0.8776504 | \n",
       "|  1.1702006 | \n",
       "| -0.8776504 | \n",
       "|  0.5851003 | \n",
       "|  0.0000000 | \n",
       "| -1.1702006 | \n",
       "| -0.5851003 | \n",
       "|  1.4627507 | \n",
       "| -1.7553009 | \n",
       "|  1.1702006 | \n",
       "| -0.2925501 | \n",
       "| -1.1702006 | \n",
       "|  0.0000000 | \n",
       "|  0.5851003 | \n",
       "| -1.4627507 | \n",
       "|  0.5851003 | \n",
       "| -0.5851003 | \n",
       "| -0.5851003 | \n",
       "|  0.5851003 | \n",
       "|  1.4627507 | \n",
       "\n",
       "\n"
      ],
      "text/plain": [
       "      [,1]      \n",
       " [1,]  0.8776504\n",
       " [2,]  1.1702006\n",
       " [3,] -0.8776504\n",
       " [4,]  0.5851003\n",
       " [5,]  0.0000000\n",
       " [6,] -1.1702006\n",
       " [7,] -0.5851003\n",
       " [8,]  1.4627507\n",
       " [9,] -1.7553009\n",
       "[10,]  1.1702006\n",
       "[11,] -0.2925501\n",
       "[12,] -1.1702006\n",
       "[13,]  0.0000000\n",
       "[14,]  0.5851003\n",
       "[15,] -1.4627507\n",
       "[16,]  0.5851003\n",
       "[17,] -0.5851003\n",
       "[18,] -0.5851003\n",
       "[19,]  0.5851003\n",
       "[20,]  1.4627507"
      ]
     },
     "metadata": {},
     "output_type": "display_data"
    }
   ],
   "source": [
    "心理学z得点"
   ]
  },
  {
   "cell_type": "code",
   "execution_count": 19,
   "metadata": {
    "collapsed": true
   },
   "outputs": [],
   "source": [
    "心理学偏差値 <- 10*心理学z得点+50"
   ]
  },
  {
   "cell_type": "code",
   "execution_count": 20,
   "metadata": {
    "collapsed": false
   },
   "outputs": [
    {
     "data": {
      "text/html": [
       "<table>\n",
       "<tbody>\n",
       "\t<tr><td>58.77650</td></tr>\n",
       "\t<tr><td>61.70201</td></tr>\n",
       "\t<tr><td>41.22350</td></tr>\n",
       "\t<tr><td>55.85100</td></tr>\n",
       "\t<tr><td>50.00000</td></tr>\n",
       "\t<tr><td>38.29799</td></tr>\n",
       "\t<tr><td>44.14900</td></tr>\n",
       "\t<tr><td>64.62751</td></tr>\n",
       "\t<tr><td>32.44699</td></tr>\n",
       "\t<tr><td>61.70201</td></tr>\n",
       "\t<tr><td>47.07450</td></tr>\n",
       "\t<tr><td>38.29799</td></tr>\n",
       "\t<tr><td>50.00000</td></tr>\n",
       "\t<tr><td>55.85100</td></tr>\n",
       "\t<tr><td>35.37249</td></tr>\n",
       "\t<tr><td>55.85100</td></tr>\n",
       "\t<tr><td>44.14900</td></tr>\n",
       "\t<tr><td>44.14900</td></tr>\n",
       "\t<tr><td>55.85100</td></tr>\n",
       "\t<tr><td>64.62751</td></tr>\n",
       "</tbody>\n",
       "</table>\n"
      ],
      "text/latex": [
       "\\begin{tabular}{l}\n",
       "\t 58.77650\\\\\n",
       "\t 61.70201\\\\\n",
       "\t 41.22350\\\\\n",
       "\t 55.85100\\\\\n",
       "\t 50.00000\\\\\n",
       "\t 38.29799\\\\\n",
       "\t 44.14900\\\\\n",
       "\t 64.62751\\\\\n",
       "\t 32.44699\\\\\n",
       "\t 61.70201\\\\\n",
       "\t 47.07450\\\\\n",
       "\t 38.29799\\\\\n",
       "\t 50.00000\\\\\n",
       "\t 55.85100\\\\\n",
       "\t 35.37249\\\\\n",
       "\t 55.85100\\\\\n",
       "\t 44.14900\\\\\n",
       "\t 44.14900\\\\\n",
       "\t 55.85100\\\\\n",
       "\t 64.62751\\\\\n",
       "\\end{tabular}\n"
      ],
      "text/markdown": [
       "\n",
       "| 58.77650 | \n",
       "| 61.70201 | \n",
       "| 41.22350 | \n",
       "| 55.85100 | \n",
       "| 50.00000 | \n",
       "| 38.29799 | \n",
       "| 44.14900 | \n",
       "| 64.62751 | \n",
       "| 32.44699 | \n",
       "| 61.70201 | \n",
       "| 47.07450 | \n",
       "| 38.29799 | \n",
       "| 50.00000 | \n",
       "| 55.85100 | \n",
       "| 35.37249 | \n",
       "| 55.85100 | \n",
       "| 44.14900 | \n",
       "| 44.14900 | \n",
       "| 55.85100 | \n",
       "| 64.62751 | \n",
       "\n",
       "\n"
      ],
      "text/plain": [
       "      [,1]    \n",
       " [1,] 58.77650\n",
       " [2,] 61.70201\n",
       " [3,] 41.22350\n",
       " [4,] 55.85100\n",
       " [5,] 50.00000\n",
       " [6,] 38.29799\n",
       " [7,] 44.14900\n",
       " [8,] 64.62751\n",
       " [9,] 32.44699\n",
       "[10,] 61.70201\n",
       "[11,] 47.07450\n",
       "[12,] 38.29799\n",
       "[13,] 50.00000\n",
       "[14,] 55.85100\n",
       "[15,] 35.37249\n",
       "[16,] 55.85100\n",
       "[17,] 44.14900\n",
       "[18,] 44.14900\n",
       "[19,] 55.85100\n",
       "[20,] 64.62751"
      ]
     },
     "metadata": {},
     "output_type": "display_data"
    }
   ],
   "source": [
    "心理学偏差値"
   ]
  },
  {
   "cell_type": "code",
   "execution_count": 21,
   "metadata": {
    "collapsed": false
   },
   "outputs": [
    {
     "data": {
      "image/png": "[encoded data removed]",
      "text/plain": [
       "plot without title"
      ]
     },
     "metadata": {},
     "output_type": "display_data"
    }
   ],
   "source": [
    "plot(指導法データ $統計テスト1,指導法データ $統計テスト2)"
   ]
  },
  {
   "cell_type": "code",
   "execution_count": 22,
   "metadata": {
    "collapsed": false
   },
   "outputs": [
    {
     "data": {
      "text/html": [
       "7.94736842105263"
      ],
      "text/latex": [
       "7.94736842105263"
      ],
      "text/markdown": [
       "7.94736842105263"
      ],
      "text/plain": [
       "[1] 7.947368"
      ]
     },
     "metadata": {},
     "output_type": "display_data"
    }
   ],
   "source": [
    "cov(指導法データ $統計テスト1,指導法データ $統計テスト2)"
   ]
  },
  {
   "cell_type": "code",
   "execution_count": 23,
   "metadata": {
    "collapsed": false
   },
   "outputs": [
    {
     "data": {
      "text/html": [
       "0.749658964824245"
      ],
      "text/latex": [
       "0.749658964824245"
      ],
      "text/markdown": [
       "0.749658964824245"
      ],
      "text/plain": [
       "[1] 0.749659"
      ]
     },
     "metadata": {},
     "output_type": "display_data"
    }
   ],
   "source": [
    "cor(指導法データ $統計テスト1,指導法データ $統計テスト2)"
   ]
  },
  {
   "cell_type": "code",
   "execution_count": 24,
   "metadata": {
    "collapsed": false
   },
   "outputs": [
    {
     "data": {
      "text/plain": [
       "      \n",
       "       嫌い 好き\n",
       "  嫌い   10    4\n",
       "  好き    2    4"
      ]
     },
     "metadata": {},
     "output_type": "display_data"
    }
   ],
   "source": [
    "table(指導法データ $数学,指導法データ $統計)"
   ]
  },
  {
   "cell_type": "code",
   "execution_count": 25,
   "metadata": {
    "collapsed": false
   },
   "outputs": [
    {
     "data": {
      "text/html": [
       "0.356348322549899"
      ],
      "text/latex": [
       "0.356348322549899"
      ],
      "text/markdown": [
       "0.356348322549899"
      ],
      "text/plain": [
       "[1] 0.3563483"
      ]
     },
     "metadata": {},
     "output_type": "display_data"
    }
   ],
   "source": [
    "cor(as.integer(指導法データ$数学),as.integer(指導法データ $統計))"
   ]
  },
  {
   "cell_type": "code",
   "execution_count": 27,
   "metadata": {
    "collapsed": false
   },
   "outputs": [
    {
     "data": {
      "text/plain": [
       "\n",
       "\tOne Sample t-test\n",
       "\n",
       "data:  指導法データ$心理学テスト\n",
       "t = -2.6166, df = 19, p-value = 0.01697\n",
       "alternative hypothesis: true mean is not equal to 12\n",
       "95 percent confidence interval:\n",
       "  8.400225 11.599775\n",
       "sample estimates:\n",
       "mean of x \n",
       "       10 \n"
      ]
     },
     "metadata": {},
     "output_type": "display_data"
    }
   ],
   "source": [
    "t.test(指導法データ $心理学テスト ,mu=12)"
   ]
  },
  {
   "cell_type": "code",
   "execution_count": 30,
   "metadata": {
    "collapsed": false
   },
   "outputs": [
    {
     "data": {
      "text/plain": [
       "\n",
       "\tPearson's product-moment correlation\n",
       "\n",
       "data:  指導法データ$統計テスト1 and 指導法データ$統計テスト2\n",
       "t = 4.8057, df = 18, p-value = 0.0001416\n",
       "alternative hypothesis: true correlation is not equal to 0\n",
       "95 percent confidence interval:\n",
       " 0.4596086 0.8952048\n",
       "sample estimates:\n",
       "     cor \n",
       "0.749659 \n"
      ]
     },
     "metadata": {},
     "output_type": "display_data"
    }
   ],
   "source": [
    "cor.test(指導法データ $統計テスト1,指導法データ $統計テスト2)"
   ]
  },
  {
   "cell_type": "code",
   "execution_count": 31,
   "metadata": {
    "collapsed": true
   },
   "outputs": [],
   "source": [
    "クロス集計表 <- table(指導法データ $数学,指導法データ $統計)"
   ]
  },
  {
   "cell_type": "code",
   "execution_count": 32,
   "metadata": {
    "collapsed": false
   },
   "outputs": [
    {
     "data": {
      "text/plain": [
       "      \n",
       "       嫌い 好き\n",
       "  嫌い   10    4\n",
       "  好き    2    4"
      ]
     },
     "metadata": {},
     "output_type": "display_data"
    }
   ],
   "source": [
    "クロス集計表"
   ]
  },
  {
   "cell_type": "code",
   "execution_count": 34,
   "metadata": {
    "collapsed": false
   },
   "outputs": [
    {
     "data": {
      "text/plain": [
       "\n",
       "\tTwo Sample t-test\n",
       "\n",
       "data:  指導法データ$統計テスト1 by 指導法データ$性別\n",
       "t = 1.8429, df = 18, p-value = 0.08188\n",
       "alternative hypothesis: true difference in means is not equal to 0\n",
       "95 percent confidence interval:\n",
       " -0.2800355  4.2800355\n",
       "sample estimates:\n",
       "mean in group 女 mean in group 男 \n",
       "               8                6 \n"
      ]
     },
     "metadata": {},
     "output_type": "display_data"
    }
   ],
   "source": [
    "t.test(指導法データ $統計テスト1~指導法データ$性別,var.equal=TRUE)"
   ]
  },
  {
   "cell_type": "code",
   "execution_count": 36,
   "metadata": {
    "collapsed": false
   },
   "outputs": [],
   "source": [
    "統計テスト1男 <- 指導法データ $統計テスト1[指導法データ $性別==\"男\"]\n",
    "統計テスト1女 <- 指導法データ $統計テスト1[指導法データ $性別==\"女\"]"
   ]
  },
  {
   "cell_type": "code",
   "execution_count": 37,
   "metadata": {
    "collapsed": false
   },
   "outputs": [
    {
     "data": {
      "text/plain": [
       "\n",
       "\tTwo Sample t-test\n",
       "\n",
       "data:  統計テスト1男 and 統計テスト1女\n",
       "t = -1.8429, df = 18, p-value = 0.08188\n",
       "alternative hypothesis: true difference in means is not equal to 0\n",
       "95 percent confidence interval:\n",
       " -4.2800355  0.2800355\n",
       "sample estimates:\n",
       "mean of x mean of y \n",
       "        6         8 \n"
      ]
     },
     "metadata": {},
     "output_type": "display_data"
    }
   ],
   "source": [
    "t.test(統計テスト1男,統計テスト1女,var.equal=TRUE)"
   ]
  },
  {
   "cell_type": "code",
   "execution_count": 38,
   "metadata": {
    "collapsed": false
   },
   "outputs": [
    {
     "data": {
      "text/plain": [
       "\n",
       "\tPaired t-test\n",
       "\n",
       "data:  指導法データ$統計テスト1 and 指導法データ$統計テスト2\n",
       "t = -4.8399, df = 19, p-value = 0.0001138\n",
       "alternative hypothesis: true difference in means is not equal to 0\n",
       "95 percent confidence interval:\n",
       " -4.297355 -1.702645\n",
       "sample estimates:\n",
       "mean of the differences \n",
       "                     -3 \n"
      ]
     },
     "metadata": {},
     "output_type": "display_data"
    }
   ],
   "source": [
    "t.test(指導法データ $統計テスト1,指導法データ$統計テスト2,paired=TRUE)"
   ]
  },
  {
   "cell_type": "code",
   "execution_count": 40,
   "metadata": {
    "collapsed": false
   },
   "outputs": [],
   "source": [
    "阪神 <- data.frame(名前= c(\"鳥谷\",\"赤星\",\"シーツ\",\"金本\",\"ウィリアムス\",\n",
    "\"久保田\",\"藤川\"),\n",
    "血液型=c(\"B\",\"A\",\"A\",\"O\",NA,\"AB\",\"A\"),\n",
    "身長=c(179, 170, 188, 180, 183, 181, 184),\n",
    "体重=c(82, 67, 89, 88, 89, 94, 83),\n",
    "年齢=c(26, 31, 36, 39, 35, 26, 27))"
   ]
  },
  {
   "cell_type": "code",
   "execution_count": 41,
   "metadata": {
    "collapsed": false
   },
   "outputs": [
    {
     "data": {
      "text/html": [
       "<table>\n",
       "<thead><tr><th scope=col>名前</th><th scope=col>血液型</th><th scope=col>身長</th><th scope=col>体重</th><th scope=col>年齢</th></tr></thead>\n",
       "<tbody>\n",
       "\t<tr><td>鳥谷        </td><td>B           </td><td>179         </td><td>82          </td><td>26          </td></tr>\n",
       "\t<tr><td>赤星        </td><td>A           </td><td>170         </td><td>67          </td><td>31          </td></tr>\n",
       "\t<tr><td>シーツ      </td><td>A           </td><td>188         </td><td>89          </td><td>36          </td></tr>\n",
       "\t<tr><td>金本        </td><td>O           </td><td>180         </td><td>88          </td><td>39          </td></tr>\n",
       "\t<tr><td>ウィリアムス</td><td>NA          </td><td>183         </td><td>89          </td><td>35          </td></tr>\n",
       "\t<tr><td>久保田      </td><td>AB          </td><td>181         </td><td>94          </td><td>26          </td></tr>\n",
       "\t<tr><td>藤川        </td><td>A           </td><td>184         </td><td>83          </td><td>27          </td></tr>\n",
       "</tbody>\n",
       "</table>\n"
      ],
      "text/latex": [
       "\\begin{tabular}{r|lllll}\n",
       " 名前 & 血液型 & 身長 & 体重 & 年齢\\\\\n",
       "\\hline\n",
       "\t 鳥谷         & B            & 179          & 82           & 26          \\\\\n",
       "\t 赤星         & A            & 170          & 67           & 31          \\\\\n",
       "\t シーツ       & A            & 188          & 89           & 36          \\\\\n",
       "\t 金本         & O            & 180          & 88           & 39          \\\\\n",
       "\t ウィリアムス & NA           & 183          & 89           & 35          \\\\\n",
       "\t 久保田       & AB           & 181          & 94           & 26          \\\\\n",
       "\t 藤川         & A            & 184          & 83           & 27          \\\\\n",
       "\\end{tabular}\n"
      ],
      "text/markdown": [
       "\n",
       "名前 | 血液型 | 身長 | 体重 | 年齢 | \n",
       "|---|---|---|---|---|---|---|\n",
       "| 鳥谷         | B            | 179          | 82           | 26           | \n",
       "| 赤星         | A            | 170          | 67           | 31           | \n",
       "| シーツ       | A            | 188          | 89           | 36           | \n",
       "| 金本         | O            | 180          | 88           | 39           | \n",
       "| ウィリアムス | NA           | 183          | 89           | 35           | \n",
       "| 久保田       | AB           | 181          | 94           | 26           | \n",
       "| 藤川         | A            | 184          | 83           | 27           | \n",
       "\n",
       "\n"
      ],
      "text/plain": [
       "  名前         血液型 身長 体重 年齢\n",
       "1 鳥谷         B      179  82   26  \n",
       "2 赤星         A      170  67   31  \n",
       "3 シーツ       A      188  89   36  \n",
       "4 金本         O      180  88   39  \n",
       "5 ウィリアムス NA     183  89   35  \n",
       "6 久保田       AB     181  94   26  \n",
       "7 藤川         A      184  83   27  "
      ]
     },
     "metadata": {},
     "output_type": "display_data"
    }
   ],
   "source": [
    "阪神"
   ]
  },
  {
   "cell_type": "code",
   "execution_count": 42,
   "metadata": {
    "collapsed": true
   },
   "outputs": [],
   "source": [
    "名前 <- c(\"鳥谷\",\"赤星\",\"シーツ\",\"金本\",\"ウィリアムス\",\"久保田\",\"藤川\")\n",
    "血液型 <- c(\"B\",\"A\",\"A\",\"O\",NA,\"AB\",\"A\")\n",
    "身長 <- c(179, 170, 188, 180, 183, 181, 184)\n",
    "体重 <- c(82, 67, 89, 88, 89, 94, 83)\n",
    "年齢 <- c(26, 31, 36, 39, 35, 26, 27)"
   ]
  },
  {
   "cell_type": "code",
   "execution_count": 43,
   "metadata": {
    "collapsed": true
   },
   "outputs": [],
   "source": [
    "阪神2 <- data.frame(名前=名前,血液型=血液型,身長=身長,体重=体重,年齢=年齢)"
   ]
  },
  {
   "cell_type": "code",
   "execution_count": 44,
   "metadata": {
    "collapsed": false
   },
   "outputs": [
    {
     "data": {
      "text/html": [
       "<table>\n",
       "<thead><tr><th scope=col>名前</th><th scope=col>血液型</th><th scope=col>身長</th><th scope=col>体重</th><th scope=col>年齢</th></tr></thead>\n",
       "<tbody>\n",
       "\t<tr><td>鳥谷        </td><td>B           </td><td>179         </td><td>82          </td><td>26          </td></tr>\n",
       "\t<tr><td>赤星        </td><td>A           </td><td>170         </td><td>67          </td><td>31          </td></tr>\n",
       "\t<tr><td>シーツ      </td><td>A           </td><td>188         </td><td>89          </td><td>36          </td></tr>\n",
       "\t<tr><td>金本        </td><td>O           </td><td>180         </td><td>88          </td><td>39          </td></tr>\n",
       "\t<tr><td>ウィリアムス</td><td>NA          </td><td>183         </td><td>89          </td><td>35          </td></tr>\n",
       "\t<tr><td>久保田      </td><td>AB          </td><td>181         </td><td>94          </td><td>26          </td></tr>\n",
       "\t<tr><td>藤川        </td><td>A           </td><td>184         </td><td>83          </td><td>27          </td></tr>\n",
       "</tbody>\n",
       "</table>\n"
      ],
      "text/latex": [
       "\\begin{tabular}{r|lllll}\n",
       " 名前 & 血液型 & 身長 & 体重 & 年齢\\\\\n",
       "\\hline\n",
       "\t 鳥谷         & B            & 179          & 82           & 26          \\\\\n",
       "\t 赤星         & A            & 170          & 67           & 31          \\\\\n",
       "\t シーツ       & A            & 188          & 89           & 36          \\\\\n",
       "\t 金本         & O            & 180          & 88           & 39          \\\\\n",
       "\t ウィリアムス & NA           & 183          & 89           & 35          \\\\\n",
       "\t 久保田       & AB           & 181          & 94           & 26          \\\\\n",
       "\t 藤川         & A            & 184          & 83           & 27          \\\\\n",
       "\\end{tabular}\n"
      ],
      "text/markdown": [
       "\n",
       "名前 | 血液型 | 身長 | 体重 | 年齢 | \n",
       "|---|---|---|---|---|---|---|\n",
       "| 鳥谷         | B            | 179          | 82           | 26           | \n",
       "| 赤星         | A            | 170          | 67           | 31           | \n",
       "| シーツ       | A            | 188          | 89           | 36           | \n",
       "| 金本         | O            | 180          | 88           | 39           | \n",
       "| ウィリアムス | NA           | 183          | 89           | 35           | \n",
       "| 久保田       | AB           | 181          | 94           | 26           | \n",
       "| 藤川         | A            | 184          | 83           | 27           | \n",
       "\n",
       "\n"
      ],
      "text/plain": [
       "  名前         血液型 身長 体重 年齢\n",
       "1 鳥谷         B      179  82   26  \n",
       "2 赤星         A      170  67   31  \n",
       "3 シーツ       A      188  89   36  \n",
       "4 金本         O      180  88   39  \n",
       "5 ウィリアムス NA     183  89   35  \n",
       "6 久保田       AB     181  94   26  \n",
       "7 藤川         A      184  83   27  "
      ]
     },
     "metadata": {},
     "output_type": "display_data"
    }
   ],
   "source": [
    "阪神2"
   ]
  },
  {
   "cell_type": "code",
   "execution_count": 45,
   "metadata": {
    "collapsed": true
   },
   "outputs": [],
   "source": [
    "全データ3 <- matrix(c(15,9,18,14,18,13,8,8,12,7,10,6,11,7,12,\n",
    "10,7,3,5,7),nrow=5,ncol=4)"
   ]
  },
  {
   "cell_type": "code",
   "execution_count": 46,
   "metadata": {
    "collapsed": false
   },
   "outputs": [
    {
     "data": {
      "text/html": [
       "<table>\n",
       "<tbody>\n",
       "\t<tr><td>15</td><td>13</td><td>10</td><td>10</td></tr>\n",
       "\t<tr><td> 9</td><td> 8</td><td> 6</td><td> 7</td></tr>\n",
       "\t<tr><td>18</td><td> 8</td><td>11</td><td> 3</td></tr>\n",
       "\t<tr><td>14</td><td>12</td><td> 7</td><td> 5</td></tr>\n",
       "\t<tr><td>18</td><td> 7</td><td>12</td><td> 7</td></tr>\n",
       "</tbody>\n",
       "</table>\n"
      ],
      "text/latex": [
       "\\begin{tabular}{llll}\n",
       "\t 15 & 13 & 10 & 10\\\\\n",
       "\t  9 &  8 &  6 &  7\\\\\n",
       "\t 18 &  8 & 11 &  3\\\\\n",
       "\t 14 & 12 &  7 &  5\\\\\n",
       "\t 18 &  7 & 12 &  7\\\\\n",
       "\\end{tabular}\n"
      ],
      "text/markdown": [
       "\n",
       "| 15 | 13 | 10 | 10 | \n",
       "|  9 |  8 |  6 |  7 | \n",
       "| 18 |  8 | 11 |  3 | \n",
       "| 14 | 12 |  7 |  5 | \n",
       "| 18 |  7 | 12 |  7 | \n",
       "\n",
       "\n"
      ],
      "text/plain": [
       "     [,1] [,2] [,3] [,4]\n",
       "[1,] 15   13   10   10  \n",
       "[2,]  9    8    6    7  \n",
       "[3,] 18    8   11    3  \n",
       "[4,] 14   12    7    5  \n",
       "[5,] 18    7   12    7  "
      ]
     },
     "metadata": {},
     "output_type": "display_data"
    }
   ],
   "source": [
    "全データ3"
   ]
  },
  {
   "cell_type": "code",
   "execution_count": 49,
   "metadata": {
    "collapsed": false
   },
   "outputs": [],
   "source": [
    "全データ4 <- data.frame(全データ3)\n"
   ]
  },
  {
   "cell_type": "code",
   "execution_count": 50,
   "metadata": {
    "collapsed": true
   },
   "outputs": [],
   "source": [
    "colnames(全データ4) <- c(\"群1\",\"群2\",\"群3\",\"群4\")"
   ]
  }
 ],
 "metadata": {
  "kernelspec": {
   "display_name": "R",
   "language": "R",
   "name": "ir"
  },
  "language_info": {
   "codemirror_mode": "r",
   "file_extension": ".r",
   "mimetype": "text/x-r-source",
   "name": "R",
   "pygments_lexer": "r",
   "version": "3.4.1"
  },
  "toc": {
   "colors": {
    "hover_highlight": "#DAA520",
    "navigate_num": "#000000",
    "navigate_text": "#333333",
    "running_highlight": "#FF0000",
    "selected_highlight": "#FFD700",
    "sidebar_border": "#EEEEEE",
    "wrapper_background": "#FFFFFF"
   },
   "moveMenuLeft": true,
   "nav_menu": {
    "height": "21px",
    "width": "254px"
   },
   "navigate_menu": true,
   "number_sections": false,
   "sideBar": true,
   "threshold": 4,
   "toc_cell": false,
   "toc_section_display": "block",
   "toc_window_display": false,
   "widenNotebook": false
  }
 },
 "nbformat": 4,
 "nbformat_minor": 2
}
