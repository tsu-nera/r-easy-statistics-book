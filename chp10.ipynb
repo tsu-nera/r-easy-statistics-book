{
 "cells": [
  {
   "cell_type": "markdown",
   "metadata": {},
   "source": [
    "# chapter10"
   ]
  },
  {
   "cell_type": "code",
   "execution_count": 17,
   "metadata": {
    "collapsed": false
   },
   "outputs": [],
   "source": [
    "脳データ <- read.csv(\"data/animaldat.csv\", header = TRUE)"
   ]
  },
  {
   "cell_type": "code",
   "execution_count": 18,
   "metadata": {
    "collapsed": false
   },
   "outputs": [
    {
     "data": {
      "text/html": [
       "<table>\n",
       "<thead><tr><th scope=col>X</th><th scope=col>Species</th><th scope=col>Body_weight</th><th scope=col>Brain_weight</th></tr></thead>\n",
       "<tbody>\n",
       "\t<tr><td> 0              </td><td>Mountain Beaver </td><td>    1.350       </td><td>   8.1          </td></tr>\n",
       "\t<tr><td> 1              </td><td>Cow             </td><td>  465.000       </td><td> 423.0          </td></tr>\n",
       "\t<tr><td> 2              </td><td>Grey Wolf       </td><td>   36.330       </td><td> 119.5          </td></tr>\n",
       "\t<tr><td> 3              </td><td>Goat            </td><td>   27.660       </td><td> 115.0          </td></tr>\n",
       "\t<tr><td> 4              </td><td>Guinea Pig      </td><td>    1.040       </td><td>   5.5          </td></tr>\n",
       "\t<tr><td> 5              </td><td>Diplodocus      </td><td>11700.000       </td><td>  50.0          </td></tr>\n",
       "\t<tr><td> 6              </td><td>Asian Elephant  </td><td> 2547.000       </td><td>4603.0          </td></tr>\n",
       "\t<tr><td> 7              </td><td>Donkey          </td><td>  187.100       </td><td> 419.0          </td></tr>\n",
       "\t<tr><td> 8              </td><td>Horse           </td><td>  521.000       </td><td> 655.0          </td></tr>\n",
       "\t<tr><td> 9              </td><td>Potar Monkey    </td><td>   10.000       </td><td> 115.0          </td></tr>\n",
       "\t<tr><td>10              </td><td>Cat             </td><td>    3.300       </td><td>  25.6          </td></tr>\n",
       "\t<tr><td>11              </td><td>Giraffe         </td><td>  529.000       </td><td> 680.0          </td></tr>\n",
       "\t<tr><td>12              </td><td>Gorilla         </td><td>  207.000       </td><td> 406.0          </td></tr>\n",
       "\t<tr><td>13              </td><td>Human           </td><td>   62.000       </td><td>1320.0          </td></tr>\n",
       "\t<tr><td>14              </td><td>African Elephant</td><td> 6654.000       </td><td>5712.0          </td></tr>\n",
       "\t<tr><td>15              </td><td>Triceratops     </td><td> 9400.000       </td><td>  70.0          </td></tr>\n",
       "\t<tr><td>16              </td><td>Rhesus Monkey   </td><td>    6.800       </td><td> 179.0          </td></tr>\n",
       "\t<tr><td>17              </td><td>Kangaroo        </td><td>   35.000       </td><td>  56.0          </td></tr>\n",
       "\t<tr><td>18              </td><td>Hamster         </td><td>    0.120       </td><td>   1.0          </td></tr>\n",
       "\t<tr><td>19              </td><td>Mouse           </td><td>    0.023       </td><td>   0.4          </td></tr>\n",
       "\t<tr><td>20              </td><td>Rabbit          </td><td>    2.500       </td><td>  12.1          </td></tr>\n",
       "\t<tr><td>21              </td><td>Sheep           </td><td>   55.500       </td><td> 175.0          </td></tr>\n",
       "\t<tr><td>22              </td><td>Jaguar          </td><td>  100.000       </td><td> 157.0          </td></tr>\n",
       "\t<tr><td>23              </td><td>Chimpanzee      </td><td>   52.160       </td><td> 440.0          </td></tr>\n",
       "\t<tr><td>24              </td><td>Brachiosaurus   </td><td>87000.000       </td><td> 154.5          </td></tr>\n",
       "\t<tr><td>25              </td><td>Rat             </td><td>    0.280       </td><td>   1.9          </td></tr>\n",
       "\t<tr><td>26              </td><td>Mole            </td><td>    0.122       </td><td>   3.0          </td></tr>\n",
       "\t<tr><td>27              </td><td>Pig             </td><td>  192.000       </td><td> 180.0          </td></tr>\n",
       "</tbody>\n",
       "</table>\n"
      ],
      "text/latex": [
       "\\begin{tabular}{r|llll}\n",
       " X & Species & Body\\_weight & Brain\\_weight\\\\\n",
       "\\hline\n",
       "\t  0               & Mountain Beaver  &     1.350        &    8.1          \\\\\n",
       "\t  1               & Cow              &   465.000        &  423.0          \\\\\n",
       "\t  2               & Grey Wolf        &    36.330        &  119.5          \\\\\n",
       "\t  3               & Goat             &    27.660        &  115.0          \\\\\n",
       "\t  4               & Guinea Pig       &     1.040        &    5.5          \\\\\n",
       "\t  5               & Diplodocus       & 11700.000        &   50.0          \\\\\n",
       "\t  6               & Asian Elephant   &  2547.000        & 4603.0          \\\\\n",
       "\t  7               & Donkey           &   187.100        &  419.0          \\\\\n",
       "\t  8               & Horse            &   521.000        &  655.0          \\\\\n",
       "\t  9               & Potar Monkey     &    10.000        &  115.0          \\\\\n",
       "\t 10               & Cat              &     3.300        &   25.6          \\\\\n",
       "\t 11               & Giraffe          &   529.000        &  680.0          \\\\\n",
       "\t 12               & Gorilla          &   207.000        &  406.0          \\\\\n",
       "\t 13               & Human            &    62.000        & 1320.0          \\\\\n",
       "\t 14               & African Elephant &  6654.000        & 5712.0          \\\\\n",
       "\t 15               & Triceratops      &  9400.000        &   70.0          \\\\\n",
       "\t 16               & Rhesus Monkey    &     6.800        &  179.0          \\\\\n",
       "\t 17               & Kangaroo         &    35.000        &   56.0          \\\\\n",
       "\t 18               & Hamster          &     0.120        &    1.0          \\\\\n",
       "\t 19               & Mouse            &     0.023        &    0.4          \\\\\n",
       "\t 20               & Rabbit           &     2.500        &   12.1          \\\\\n",
       "\t 21               & Sheep            &    55.500        &  175.0          \\\\\n",
       "\t 22               & Jaguar           &   100.000        &  157.0          \\\\\n",
       "\t 23               & Chimpanzee       &    52.160        &  440.0          \\\\\n",
       "\t 24               & Brachiosaurus    & 87000.000        &  154.5          \\\\\n",
       "\t 25               & Rat              &     0.280        &    1.9          \\\\\n",
       "\t 26               & Mole             &     0.122        &    3.0          \\\\\n",
       "\t 27               & Pig              &   192.000        &  180.0          \\\\\n",
       "\\end{tabular}\n"
      ],
      "text/markdown": [
       "\n",
       "X | Species | Body_weight | Brain_weight | \n",
       "|---|---|---|---|---|---|---|---|---|---|---|---|---|---|---|---|---|---|---|---|---|---|---|---|---|---|---|---|\n",
       "|  0               | Mountain Beaver  |     1.350        |    8.1           | \n",
       "|  1               | Cow              |   465.000        |  423.0           | \n",
       "|  2               | Grey Wolf        |    36.330        |  119.5           | \n",
       "|  3               | Goat             |    27.660        |  115.0           | \n",
       "|  4               | Guinea Pig       |     1.040        |    5.5           | \n",
       "|  5               | Diplodocus       | 11700.000        |   50.0           | \n",
       "|  6               | Asian Elephant   |  2547.000        | 4603.0           | \n",
       "|  7               | Donkey           |   187.100        |  419.0           | \n",
       "|  8               | Horse            |   521.000        |  655.0           | \n",
       "|  9               | Potar Monkey     |    10.000        |  115.0           | \n",
       "| 10               | Cat              |     3.300        |   25.6           | \n",
       "| 11               | Giraffe          |   529.000        |  680.0           | \n",
       "| 12               | Gorilla          |   207.000        |  406.0           | \n",
       "| 13               | Human            |    62.000        | 1320.0           | \n",
       "| 14               | African Elephant |  6654.000        | 5712.0           | \n",
       "| 15               | Triceratops      |  9400.000        |   70.0           | \n",
       "| 16               | Rhesus Monkey    |     6.800        |  179.0           | \n",
       "| 17               | Kangaroo         |    35.000        |   56.0           | \n",
       "| 18               | Hamster          |     0.120        |    1.0           | \n",
       "| 19               | Mouse            |     0.023        |    0.4           | \n",
       "| 20               | Rabbit           |     2.500        |   12.1           | \n",
       "| 21               | Sheep            |    55.500        |  175.0           | \n",
       "| 22               | Jaguar           |   100.000        |  157.0           | \n",
       "| 23               | Chimpanzee       |    52.160        |  440.0           | \n",
       "| 24               | Brachiosaurus    | 87000.000        |  154.5           | \n",
       "| 25               | Rat              |     0.280        |    1.9           | \n",
       "| 26               | Mole             |     0.122        |    3.0           | \n",
       "| 27               | Pig              |   192.000        |  180.0           | \n",
       "\n",
       "\n"
      ],
      "text/plain": [
       "   X  Species          Body_weight Brain_weight\n",
       "1   0 Mountain Beaver      1.350      8.1      \n",
       "2   1 Cow                465.000    423.0      \n",
       "3   2 Grey Wolf           36.330    119.5      \n",
       "4   3 Goat                27.660    115.0      \n",
       "5   4 Guinea Pig           1.040      5.5      \n",
       "6   5 Diplodocus       11700.000     50.0      \n",
       "7   6 Asian Elephant    2547.000   4603.0      \n",
       "8   7 Donkey             187.100    419.0      \n",
       "9   8 Horse              521.000    655.0      \n",
       "10  9 Potar Monkey        10.000    115.0      \n",
       "11 10 Cat                  3.300     25.6      \n",
       "12 11 Giraffe            529.000    680.0      \n",
       "13 12 Gorilla            207.000    406.0      \n",
       "14 13 Human               62.000   1320.0      \n",
       "15 14 African Elephant  6654.000   5712.0      \n",
       "16 15 Triceratops       9400.000     70.0      \n",
       "17 16 Rhesus Monkey        6.800    179.0      \n",
       "18 17 Kangaroo            35.000     56.0      \n",
       "19 18 Hamster              0.120      1.0      \n",
       "20 19 Mouse                0.023      0.4      \n",
       "21 20 Rabbit               2.500     12.1      \n",
       "22 21 Sheep               55.500    175.0      \n",
       "23 22 Jaguar             100.000    157.0      \n",
       "24 23 Chimpanzee          52.160    440.0      \n",
       "25 24 Brachiosaurus    87000.000    154.5      \n",
       "26 25 Rat                  0.280      1.9      \n",
       "27 26 Mole                 0.122      3.0      \n",
       "28 27 Pig                192.000    180.0      "
      ]
     },
     "metadata": {},
     "output_type": "display_data"
    }
   ],
   "source": [
    "脳データ"
   ]
  },
  {
   "cell_type": "code",
   "execution_count": 19,
   "metadata": {
    "collapsed": false
   },
   "outputs": [
    {
     "data": {
      "image/png": "[encoded data removed]",
      "text/plain": [
       "plot without title"
      ]
     },
     "metadata": {},
     "output_type": "display_data"
    }
   ],
   "source": [
    "plot(脳データ$Body_weight,脳データ$Brain_weight)"
   ]
  },
  {
   "cell_type": "code",
   "execution_count": 20,
   "metadata": {
    "collapsed": false
   },
   "outputs": [
    {
     "data": {
      "text/html": [
       "-0.00534116256125113"
      ],
      "text/latex": [
       "-0.00534116256125113"
      ],
      "text/markdown": [
       "-0.00534116256125113"
      ],
      "text/plain": [
       "[1] -0.005341163"
      ]
     },
     "metadata": {},
     "output_type": "display_data"
    }
   ],
   "source": [
    " cor(脳データ $Body_weight,脳データ$Brain_weight)"
   ]
  },
  {
   "cell_type": "code",
   "execution_count": 21,
   "metadata": {
    "collapsed": true
   },
   "outputs": [],
   "source": [
    " 条件1 <- 脳データ $Body_weight<80000"
   ]
  },
  {
   "cell_type": "code",
   "execution_count": 23,
   "metadata": {
    "collapsed": false
   },
   "outputs": [],
   "source": [
    "脳データ2 <- 脳データ [条件1, ]"
   ]
  },
  {
   "cell_type": "code",
   "execution_count": 24,
   "metadata": {
    "collapsed": false
   },
   "outputs": [
    {
     "data": {
      "text/html": [
       "<table>\n",
       "<thead><tr><th></th><th scope=col>X</th><th scope=col>Species</th><th scope=col>Body_weight</th><th scope=col>Brain_weight</th></tr></thead>\n",
       "<tbody>\n",
       "\t<tr><th scope=row>1</th><td> 0              </td><td>Mountain Beaver </td><td>    1.350       </td><td>   8.1          </td></tr>\n",
       "\t<tr><th scope=row>2</th><td> 1              </td><td>Cow             </td><td>  465.000       </td><td> 423.0          </td></tr>\n",
       "\t<tr><th scope=row>3</th><td> 2              </td><td>Grey Wolf       </td><td>   36.330       </td><td> 119.5          </td></tr>\n",
       "\t<tr><th scope=row>4</th><td> 3              </td><td>Goat            </td><td>   27.660       </td><td> 115.0          </td></tr>\n",
       "\t<tr><th scope=row>5</th><td> 4              </td><td>Guinea Pig      </td><td>    1.040       </td><td>   5.5          </td></tr>\n",
       "\t<tr><th scope=row>6</th><td> 5              </td><td>Diplodocus      </td><td>11700.000       </td><td>  50.0          </td></tr>\n",
       "\t<tr><th scope=row>7</th><td> 6              </td><td>Asian Elephant  </td><td> 2547.000       </td><td>4603.0          </td></tr>\n",
       "\t<tr><th scope=row>8</th><td> 7              </td><td>Donkey          </td><td>  187.100       </td><td> 419.0          </td></tr>\n",
       "\t<tr><th scope=row>9</th><td> 8              </td><td>Horse           </td><td>  521.000       </td><td> 655.0          </td></tr>\n",
       "\t<tr><th scope=row>10</th><td> 9              </td><td>Potar Monkey    </td><td>   10.000       </td><td> 115.0          </td></tr>\n",
       "\t<tr><th scope=row>11</th><td>10              </td><td>Cat             </td><td>    3.300       </td><td>  25.6          </td></tr>\n",
       "\t<tr><th scope=row>12</th><td>11              </td><td>Giraffe         </td><td>  529.000       </td><td> 680.0          </td></tr>\n",
       "\t<tr><th scope=row>13</th><td>12              </td><td>Gorilla         </td><td>  207.000       </td><td> 406.0          </td></tr>\n",
       "\t<tr><th scope=row>14</th><td>13              </td><td>Human           </td><td>   62.000       </td><td>1320.0          </td></tr>\n",
       "\t<tr><th scope=row>15</th><td>14              </td><td>African Elephant</td><td> 6654.000       </td><td>5712.0          </td></tr>\n",
       "\t<tr><th scope=row>16</th><td>15              </td><td>Triceratops     </td><td> 9400.000       </td><td>  70.0          </td></tr>\n",
       "\t<tr><th scope=row>17</th><td>16              </td><td>Rhesus Monkey   </td><td>    6.800       </td><td> 179.0          </td></tr>\n",
       "\t<tr><th scope=row>18</th><td>17              </td><td>Kangaroo        </td><td>   35.000       </td><td>  56.0          </td></tr>\n",
       "\t<tr><th scope=row>19</th><td>18              </td><td>Hamster         </td><td>    0.120       </td><td>   1.0          </td></tr>\n",
       "\t<tr><th scope=row>20</th><td>19              </td><td>Mouse           </td><td>    0.023       </td><td>   0.4          </td></tr>\n",
       "\t<tr><th scope=row>21</th><td>20              </td><td>Rabbit          </td><td>    2.500       </td><td>  12.1          </td></tr>\n",
       "\t<tr><th scope=row>22</th><td>21              </td><td>Sheep           </td><td>   55.500       </td><td> 175.0          </td></tr>\n",
       "\t<tr><th scope=row>23</th><td>22              </td><td>Jaguar          </td><td>  100.000       </td><td> 157.0          </td></tr>\n",
       "\t<tr><th scope=row>24</th><td>23              </td><td>Chimpanzee      </td><td>   52.160       </td><td> 440.0          </td></tr>\n",
       "\t<tr><th scope=row>26</th><td>25              </td><td>Rat             </td><td>    0.280       </td><td>   1.9          </td></tr>\n",
       "\t<tr><th scope=row>27</th><td>26              </td><td>Mole            </td><td>    0.122       </td><td>   3.0          </td></tr>\n",
       "\t<tr><th scope=row>28</th><td>27              </td><td>Pig             </td><td>  192.000       </td><td> 180.0          </td></tr>\n",
       "</tbody>\n",
       "</table>\n"
      ],
      "text/latex": [
       "\\begin{tabular}{r|llll}\n",
       "  & X & Species & Body\\_weight & Brain\\_weight\\\\\n",
       "\\hline\n",
       "\t1 &  0               & Mountain Beaver  &     1.350        &    8.1          \\\\\n",
       "\t2 &  1               & Cow              &   465.000        &  423.0          \\\\\n",
       "\t3 &  2               & Grey Wolf        &    36.330        &  119.5          \\\\\n",
       "\t4 &  3               & Goat             &    27.660        &  115.0          \\\\\n",
       "\t5 &  4               & Guinea Pig       &     1.040        &    5.5          \\\\\n",
       "\t6 &  5               & Diplodocus       & 11700.000        &   50.0          \\\\\n",
       "\t7 &  6               & Asian Elephant   &  2547.000        & 4603.0          \\\\\n",
       "\t8 &  7               & Donkey           &   187.100        &  419.0          \\\\\n",
       "\t9 &  8               & Horse            &   521.000        &  655.0          \\\\\n",
       "\t10 &  9               & Potar Monkey     &    10.000        &  115.0          \\\\\n",
       "\t11 & 10               & Cat              &     3.300        &   25.6          \\\\\n",
       "\t12 & 11               & Giraffe          &   529.000        &  680.0          \\\\\n",
       "\t13 & 12               & Gorilla          &   207.000        &  406.0          \\\\\n",
       "\t14 & 13               & Human            &    62.000        & 1320.0          \\\\\n",
       "\t15 & 14               & African Elephant &  6654.000        & 5712.0          \\\\\n",
       "\t16 & 15               & Triceratops      &  9400.000        &   70.0          \\\\\n",
       "\t17 & 16               & Rhesus Monkey    &     6.800        &  179.0          \\\\\n",
       "\t18 & 17               & Kangaroo         &    35.000        &   56.0          \\\\\n",
       "\t19 & 18               & Hamster          &     0.120        &    1.0          \\\\\n",
       "\t20 & 19               & Mouse            &     0.023        &    0.4          \\\\\n",
       "\t21 & 20               & Rabbit           &     2.500        &   12.1          \\\\\n",
       "\t22 & 21               & Sheep            &    55.500        &  175.0          \\\\\n",
       "\t23 & 22               & Jaguar           &   100.000        &  157.0          \\\\\n",
       "\t24 & 23               & Chimpanzee       &    52.160        &  440.0          \\\\\n",
       "\t26 & 25               & Rat              &     0.280        &    1.9          \\\\\n",
       "\t27 & 26               & Mole             &     0.122        &    3.0          \\\\\n",
       "\t28 & 27               & Pig              &   192.000        &  180.0          \\\\\n",
       "\\end{tabular}\n"
      ],
      "text/markdown": [
       "\n",
       "| <!--/--> | X | Species | Body_weight | Brain_weight | \n",
       "|---|---|---|---|---|---|---|---|---|---|---|---|---|---|---|---|---|---|---|---|---|---|---|---|---|---|---|\n",
       "| 1 |  0               | Mountain Beaver  |     1.350        |    8.1           | \n",
       "| 2 |  1               | Cow              |   465.000        |  423.0           | \n",
       "| 3 |  2               | Grey Wolf        |    36.330        |  119.5           | \n",
       "| 4 |  3               | Goat             |    27.660        |  115.0           | \n",
       "| 5 |  4               | Guinea Pig       |     1.040        |    5.5           | \n",
       "| 6 |  5               | Diplodocus       | 11700.000        |   50.0           | \n",
       "| 7 |  6               | Asian Elephant   |  2547.000        | 4603.0           | \n",
       "| 8 |  7               | Donkey           |   187.100        |  419.0           | \n",
       "| 9 |  8               | Horse            |   521.000        |  655.0           | \n",
       "| 10 |  9               | Potar Monkey     |    10.000        |  115.0           | \n",
       "| 11 | 10               | Cat              |     3.300        |   25.6           | \n",
       "| 12 | 11               | Giraffe          |   529.000        |  680.0           | \n",
       "| 13 | 12               | Gorilla          |   207.000        |  406.0           | \n",
       "| 14 | 13               | Human            |    62.000        | 1320.0           | \n",
       "| 15 | 14               | African Elephant |  6654.000        | 5712.0           | \n",
       "| 16 | 15               | Triceratops      |  9400.000        |   70.0           | \n",
       "| 17 | 16               | Rhesus Monkey    |     6.800        |  179.0           | \n",
       "| 18 | 17               | Kangaroo         |    35.000        |   56.0           | \n",
       "| 19 | 18               | Hamster          |     0.120        |    1.0           | \n",
       "| 20 | 19               | Mouse            |     0.023        |    0.4           | \n",
       "| 21 | 20               | Rabbit           |     2.500        |   12.1           | \n",
       "| 22 | 21               | Sheep            |    55.500        |  175.0           | \n",
       "| 23 | 22               | Jaguar           |   100.000        |  157.0           | \n",
       "| 24 | 23               | Chimpanzee       |    52.160        |  440.0           | \n",
       "| 26 | 25               | Rat              |     0.280        |    1.9           | \n",
       "| 27 | 26               | Mole             |     0.122        |    3.0           | \n",
       "| 28 | 27               | Pig              |   192.000        |  180.0           | \n",
       "\n",
       "\n"
      ],
      "text/plain": [
       "   X  Species          Body_weight Brain_weight\n",
       "1   0 Mountain Beaver      1.350      8.1      \n",
       "2   1 Cow                465.000    423.0      \n",
       "3   2 Grey Wolf           36.330    119.5      \n",
       "4   3 Goat                27.660    115.0      \n",
       "5   4 Guinea Pig           1.040      5.5      \n",
       "6   5 Diplodocus       11700.000     50.0      \n",
       "7   6 Asian Elephant    2547.000   4603.0      \n",
       "8   7 Donkey             187.100    419.0      \n",
       "9   8 Horse              521.000    655.0      \n",
       "10  9 Potar Monkey        10.000    115.0      \n",
       "11 10 Cat                  3.300     25.6      \n",
       "12 11 Giraffe            529.000    680.0      \n",
       "13 12 Gorilla            207.000    406.0      \n",
       "14 13 Human               62.000   1320.0      \n",
       "15 14 African Elephant  6654.000   5712.0      \n",
       "16 15 Triceratops       9400.000     70.0      \n",
       "17 16 Rhesus Monkey        6.800    179.0      \n",
       "18 17 Kangaroo            35.000     56.0      \n",
       "19 18 Hamster              0.120      1.0      \n",
       "20 19 Mouse                0.023      0.4      \n",
       "21 20 Rabbit               2.500     12.1      \n",
       "22 21 Sheep               55.500    175.0      \n",
       "23 22 Jaguar             100.000    157.0      \n",
       "24 23 Chimpanzee          52.160    440.0      \n",
       "26 25 Rat                  0.280      1.9      \n",
       "27 26 Mole                 0.122      3.0      \n",
       "28 27 Pig                192.000    180.0      "
      ]
     },
     "metadata": {},
     "output_type": "display_data"
    }
   ],
   "source": [
    "脳データ2"
   ]
  },
  {
   "cell_type": "code",
   "execution_count": 26,
   "metadata": {
    "collapsed": false
   },
   "outputs": [
    {
     "data": {
      "image/png": "[encoded data removed]",
      "text/plain": [
       "plot without title"
      ]
     },
     "metadata": {},
     "output_type": "display_data"
    }
   ],
   "source": [
    "plot(脳データ2$Body_weight,脳データ2$Brain_weight)"
   ]
  },
  {
   "cell_type": "code",
   "execution_count": 27,
   "metadata": {
    "collapsed": false
   },
   "outputs": [
    {
     "data": {
      "text/html": [
       "0.308242505587905"
      ],
      "text/latex": [
       "0.308242505587905"
      ],
      "text/markdown": [
       "0.308242505587905"
      ],
      "text/plain": [
       "[1] 0.3082425"
      ]
     },
     "metadata": {},
     "output_type": "display_data"
    }
   ],
   "source": [
    "cor(脳データ2$Body_weight,脳データ2$Brain_weight)"
   ]
  },
  {
   "cell_type": "code",
   "execution_count": 28,
   "metadata": {
    "collapsed": true
   },
   "outputs": [],
   "source": [
    "条件2 <- 脳データ $Body_weight<2000"
   ]
  },
  {
   "cell_type": "code",
   "execution_count": 29,
   "metadata": {
    "collapsed": true
   },
   "outputs": [],
   "source": [
    "脳データ3 <- 脳データ [条件2, ]"
   ]
  },
  {
   "cell_type": "code",
   "execution_count": 30,
   "metadata": {
    "collapsed": false
   },
   "outputs": [
    {
     "data": {
      "image/png": "[encoded data removed]",
      "text/plain": [
       "plot without title"
      ]
     },
     "metadata": {},
     "output_type": "display_data"
    }
   ],
   "source": [
    "plot(脳データ3$Body_weight,脳データ3$Brain_weight)"
   ]
  },
  {
   "cell_type": "code",
   "execution_count": 31,
   "metadata": {
    "collapsed": true
   },
   "outputs": [],
   "source": [
    "条件3 <- (脳データ$Body_weight<2000) & (脳データ$Brain_weight<1000)"
   ]
  },
  {
   "cell_type": "code",
   "execution_count": 33,
   "metadata": {
    "collapsed": false
   },
   "outputs": [],
   "source": [
    " 脳データ4 <- 脳データ [条件3, ]"
   ]
  },
  {
   "cell_type": "code",
   "execution_count": 34,
   "metadata": {
    "collapsed": false
   },
   "outputs": [
    {
     "data": {
      "image/png": "[encoded data removed]",
      "text/plain": [
       "plot without title"
      ]
     },
     "metadata": {},
     "output_type": "display_data"
    }
   ],
   "source": [
    " plot(脳データ4$Body_weight,脳データ4$Brain_weight)"
   ]
  },
  {
   "cell_type": "code",
   "execution_count": 35,
   "metadata": {
    "collapsed": false
   },
   "outputs": [
    {
     "data": {
      "text/html": [
       "0.882233613797128"
      ],
      "text/latex": [
       "0.882233613797128"
      ],
      "text/markdown": [
       "0.882233613797128"
      ],
      "text/plain": [
       "[1] 0.8822336"
      ]
     },
     "metadata": {},
     "output_type": "display_data"
    }
   ],
   "source": [
    "cor(脳データ4$Body_weight,脳データ4$Brain_weight)"
   ]
  },
  {
   "cell_type": "code",
   "execution_count": null,
   "metadata": {
    "collapsed": true
   },
   "outputs": [],
   "source": []
  }
 ],
 "metadata": {
  "kernelspec": {
   "display_name": "R",
   "language": "R",
   "name": "ir"
  },
  "language_info": {
   "codemirror_mode": "r",
   "file_extension": ".r",
   "mimetype": "text/x-r-source",
   "name": "R",
   "pygments_lexer": "r",
   "version": "3.4.1"
  },
  "toc": {
   "colors": {
    "hover_highlight": "#DAA520",
    "navigate_num": "#000000",
    "navigate_text": "#333333",
    "running_highlight": "#FF0000",
    "selected_highlight": "#FFD700",
    "sidebar_border": "#EEEEEE",
    "wrapper_background": "#FFFFFF"
   },
   "moveMenuLeft": true,
   "nav_menu": {
    "height": "21px",
    "width": "254px"
   },
   "navigate_menu": true,
   "number_sections": false,
   "sideBar": true,
   "threshold": 4,
   "toc_cell": false,
   "toc_section_display": "block",
   "toc_window_display": false,
   "widenNotebook": false
  }
 },
 "nbformat": 4,
 "nbformat_minor": 2
}
