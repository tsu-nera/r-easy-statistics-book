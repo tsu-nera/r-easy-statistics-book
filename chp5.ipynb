{
 "cells": [
  {
   "cell_type": "markdown",
   "metadata": {
    "deletable": true,
    "editable": true
   },
   "source": [
    "# Chapter5 統計的仮説検定"
   ]
  },
  {
   "cell_type": "code",
   "execution_count": 1,
   "metadata": {
    "collapsed": true,
    "deletable": true,
    "editable": true
   },
   "outputs": [],
   "source": [
    "心理学テスト <- c(13,14,7,12,10,6,8,15,4,14,9,6,10,12,5,12,8,8,12,15)"
   ]
  },
  {
   "cell_type": "code",
   "execution_count": 2,
   "metadata": {
    "collapsed": false,
    "deletable": true,
    "editable": true
   },
   "outputs": [
    {
     "data": {
      "text/html": [
       "<ol class=list-inline>\n",
       "\t<li>13</li>\n",
       "\t<li>14</li>\n",
       "\t<li>7</li>\n",
       "\t<li>12</li>\n",
       "\t<li>10</li>\n",
       "\t<li>6</li>\n",
       "\t<li>8</li>\n",
       "\t<li>15</li>\n",
       "\t<li>4</li>\n",
       "\t<li>14</li>\n",
       "\t<li>9</li>\n",
       "\t<li>6</li>\n",
       "\t<li>10</li>\n",
       "\t<li>12</li>\n",
       "\t<li>5</li>\n",
       "\t<li>12</li>\n",
       "\t<li>8</li>\n",
       "\t<li>8</li>\n",
       "\t<li>12</li>\n",
       "\t<li>15</li>\n",
       "</ol>\n"
      ],
      "text/latex": [
       "\\begin{enumerate*}\n",
       "\\item 13\n",
       "\\item 14\n",
       "\\item 7\n",
       "\\item 12\n",
       "\\item 10\n",
       "\\item 6\n",
       "\\item 8\n",
       "\\item 15\n",
       "\\item 4\n",
       "\\item 14\n",
       "\\item 9\n",
       "\\item 6\n",
       "\\item 10\n",
       "\\item 12\n",
       "\\item 5\n",
       "\\item 12\n",
       "\\item 8\n",
       "\\item 8\n",
       "\\item 12\n",
       "\\item 15\n",
       "\\end{enumerate*}\n"
      ],
      "text/markdown": [
       "1. 13\n",
       "2. 14\n",
       "3. 7\n",
       "4. 12\n",
       "5. 10\n",
       "6. 6\n",
       "7. 8\n",
       "8. 15\n",
       "9. 4\n",
       "10. 14\n",
       "11. 9\n",
       "12. 6\n",
       "13. 10\n",
       "14. 12\n",
       "15. 5\n",
       "16. 12\n",
       "17. 8\n",
       "18. 8\n",
       "19. 12\n",
       "20. 15\n",
       "\n",
       "\n"
      ],
      "text/plain": [
       " [1] 13 14  7 12 10  6  8 15  4 14  9  6 10 12  5 12  8  8 12 15"
      ]
     },
     "metadata": {},
     "output_type": "display_data"
    }
   ],
   "source": [
    "心理学テスト"
   ]
  },
  {
   "cell_type": "code",
   "execution_count": 5,
   "metadata": {
    "collapsed": false,
    "deletable": true,
    "editable": true
   },
   "outputs": [],
   "source": [
    "Z分子 <- mean(心理学テスト)-12"
   ]
  },
  {
   "cell_type": "code",
   "execution_count": 7,
   "metadata": {
    "collapsed": true,
    "deletable": true,
    "editable": true
   },
   "outputs": [],
   "source": [
    "Z分母 <- sqrt(10/length(心理学テスト))"
   ]
  },
  {
   "cell_type": "code",
   "execution_count": 8,
   "metadata": {
    "collapsed": true,
    "deletable": true,
    "editable": true
   },
   "outputs": [],
   "source": [
    "Z統計量 <- Z分子/Z分母"
   ]
  },
  {
   "cell_type": "code",
   "execution_count": 9,
   "metadata": {
    "collapsed": false,
    "deletable": true,
    "editable": true
   },
   "outputs": [
    {
     "data": {
      "text/html": [
       "-2.82842712474619"
      ],
      "text/latex": [
       "-2.82842712474619"
      ],
      "text/markdown": [
       "-2.82842712474619"
      ],
      "text/plain": [
       "[1] -2.828427"
      ]
     },
     "metadata": {},
     "output_type": "display_data"
    }
   ],
   "source": [
    "Z統計量"
   ]
  },
  {
   "cell_type": "code",
   "execution_count": 10,
   "metadata": {
    "collapsed": false,
    "deletable": true,
    "editable": true
   },
   "outputs": [
    {
     "data": {
      "text/html": [
       "-1.95996398454005"
      ],
      "text/latex": [
       "-1.95996398454005"
      ],
      "text/markdown": [
       "-1.95996398454005"
      ],
      "text/plain": [
       "[1] -1.959964"
      ]
     },
     "metadata": {},
     "output_type": "display_data"
    }
   ],
   "source": [
    "qnorm(0.025)"
   ]
  },
  {
   "cell_type": "code",
   "execution_count": 11,
   "metadata": {
    "collapsed": false,
    "deletable": true,
    "editable": true
   },
   "outputs": [
    {
     "data": {
      "text/html": [
       "1.95996398454005"
      ],
      "text/latex": [
       "1.95996398454005"
      ],
      "text/markdown": [
       "1.95996398454005"
      ],
      "text/plain": [
       "[1] 1.959964"
      ]
     },
     "metadata": {},
     "output_type": "display_data"
    }
   ],
   "source": [
    "qnorm(0.975)"
   ]
  },
  {
   "cell_type": "code",
   "execution_count": 2,
   "metadata": {
    "collapsed": true,
    "deletable": true,
    "editable": true
   },
   "outputs": [],
   "source": [
    "t分子 <- mean(心理学テスト)-12"
   ]
  },
  {
   "cell_type": "code",
   "execution_count": 3,
   "metadata": {
    "collapsed": true
   },
   "outputs": [],
   "source": [
    "t分母 <- sqrt(var(心理学テスト)/length(心理学テスト))"
   ]
  },
  {
   "cell_type": "code",
   "execution_count": 4,
   "metadata": {
    "collapsed": true
   },
   "outputs": [],
   "source": [
    "t統計量 <- t分子/t分母"
   ]
  },
  {
   "cell_type": "code",
   "execution_count": 5,
   "metadata": {
    "collapsed": false
   },
   "outputs": [
    {
     "data": {
      "text/html": [
       "-2.61664801737774"
      ],
      "text/latex": [
       "-2.61664801737774"
      ],
      "text/markdown": [
       "-2.61664801737774"
      ],
      "text/plain": [
       "[1] -2.616648"
      ]
     },
     "metadata": {},
     "output_type": "display_data"
    }
   ],
   "source": [
    "t統計量"
   ]
  },
  {
   "cell_type": "code",
   "execution_count": 6,
   "metadata": {
    "collapsed": false
   },
   "outputs": [
    {
     "data": {
      "text/html": [
       "-2.09302405440831"
      ],
      "text/latex": [
       "-2.09302405440831"
      ],
      "text/markdown": [
       "-2.09302405440831"
      ],
      "text/plain": [
       "[1] -2.093024"
      ]
     },
     "metadata": {},
     "output_type": "display_data"
    }
   ],
   "source": [
    "qt(0.025,19)"
   ]
  },
  {
   "cell_type": "code",
   "execution_count": 7,
   "metadata": {
    "collapsed": false
   },
   "outputs": [
    {
     "data": {
      "text/html": [
       "2.09302405440831"
      ],
      "text/latex": [
       "2.09302405440831"
      ],
      "text/markdown": [
       "2.09302405440831"
      ],
      "text/plain": [
       "[1] 2.093024"
      ]
     },
     "metadata": {},
     "output_type": "display_data"
    }
   ],
   "source": [
    " qt(0.975,19)"
   ]
  },
  {
   "cell_type": "code",
   "execution_count": 8,
   "metadata": {
    "collapsed": false
   },
   "outputs": [
    {
     "data": {
      "text/html": [
       "0.0169709209000588"
      ],
      "text/latex": [
       "0.0169709209000588"
      ],
      "text/markdown": [
       "0.0169709209000588"
      ],
      "text/plain": [
       "[1] 0.01697092"
      ]
     },
     "metadata": {},
     "output_type": "display_data"
    }
   ],
   "source": [
    "2*pt(2.616648,19,lower.tail=FALSE)"
   ]
  },
  {
   "cell_type": "code",
   "execution_count": 9,
   "metadata": {
    "collapsed": false
   },
   "outputs": [
    {
     "data": {
      "text/plain": [
       "\n",
       "\tOne Sample t-test\n",
       "\n",
       "data:  心理学テスト\n",
       "t = -2.6166, df = 19, p-value = 0.01697\n",
       "alternative hypothesis: true mean is not equal to 12\n",
       "95 percent confidence interval:\n",
       "  8.400225 11.599775\n",
       "sample estimates:\n",
       "mean of x \n",
       "       10 \n"
      ]
     },
     "metadata": {},
     "output_type": "display_data"
    }
   ],
   "source": [
    "t.test(心理学テスト, mu=12)"
   ]
  },
  {
   "cell_type": "code",
   "execution_count": null,
   "metadata": {
    "collapsed": true
   },
   "outputs": [],
   "source": []
  }
 ],
 "metadata": {
  "kernelspec": {
   "display_name": "R",
   "language": "R",
   "name": "ir"
  },
  "language_info": {
   "codemirror_mode": "r",
   "file_extension": ".r",
   "mimetype": "text/x-r-source",
   "name": "R",
   "pygments_lexer": "r",
   "version": "3.4.1"
  },
  "toc": {
   "colors": {
    "hover_highlight": "#DAA520",
    "navigate_num": "#000000",
    "navigate_text": "#333333",
    "running_highlight": "#FF0000",
    "selected_highlight": "#FFD700",
    "sidebar_border": "#EEEEEE",
    "wrapper_background": "#FFFFFF"
   },
   "moveMenuLeft": true,
   "nav_menu": {
    "height": "21px",
    "width": "254px"
   },
   "navigate_menu": true,
   "number_sections": false,
   "sideBar": true,
   "threshold": 4,
   "toc_cell": false,
   "toc_section_display": "block",
   "toc_window_display": false,
   "widenNotebook": false
  }
 },
 "nbformat": 4,
 "nbformat_minor": 2
}
