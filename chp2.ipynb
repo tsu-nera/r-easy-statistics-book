{
 "cells": [
  {
   "cell_type": "markdown",
   "metadata": {
    "deletable": true,
    "editable": true
   },
   "source": [
    "# Chapter2"
   ]
  },
  {
   "cell_type": "code",
   "execution_count": 1,
   "metadata": {
    "collapsed": true,
    "deletable": true,
    "editable": true
   },
   "outputs": [],
   "source": [
    "指導法 <- c(\"C\",\"B\",\"B\",\"A\",\"B\",\"C\",\"A\",\"D\",\"D\",\"D\",\"A\", \"A\",\n",
    "\"A\",\"C\",\"B\",\"D\",\"C\",\"C\",\"B\",\"D\")"
   ]
  },
  {
   "cell_type": "code",
   "execution_count": 2,
   "metadata": {
    "collapsed": false,
    "deletable": true,
    "editable": true
   },
   "outputs": [
    {
     "data": {
      "text/html": [
       "<ol class=list-inline>\n",
       "\t<li>'C'</li>\n",
       "\t<li>'B'</li>\n",
       "\t<li>'B'</li>\n",
       "\t<li>'A'</li>\n",
       "\t<li>'B'</li>\n",
       "\t<li>'C'</li>\n",
       "\t<li>'A'</li>\n",
       "\t<li>'D'</li>\n",
       "\t<li>'D'</li>\n",
       "\t<li>'D'</li>\n",
       "\t<li>'A'</li>\n",
       "\t<li>'A'</li>\n",
       "\t<li>'A'</li>\n",
       "\t<li>'C'</li>\n",
       "\t<li>'B'</li>\n",
       "\t<li>'D'</li>\n",
       "\t<li>'C'</li>\n",
       "\t<li>'C'</li>\n",
       "\t<li>'B'</li>\n",
       "\t<li>'D'</li>\n",
       "</ol>\n"
      ],
      "text/latex": [
       "\\begin{enumerate*}\n",
       "\\item 'C'\n",
       "\\item 'B'\n",
       "\\item 'B'\n",
       "\\item 'A'\n",
       "\\item 'B'\n",
       "\\item 'C'\n",
       "\\item 'A'\n",
       "\\item 'D'\n",
       "\\item 'D'\n",
       "\\item 'D'\n",
       "\\item 'A'\n",
       "\\item 'A'\n",
       "\\item 'A'\n",
       "\\item 'C'\n",
       "\\item 'B'\n",
       "\\item 'D'\n",
       "\\item 'C'\n",
       "\\item 'C'\n",
       "\\item 'B'\n",
       "\\item 'D'\n",
       "\\end{enumerate*}\n"
      ],
      "text/markdown": [
       "1. 'C'\n",
       "2. 'B'\n",
       "3. 'B'\n",
       "4. 'A'\n",
       "5. 'B'\n",
       "6. 'C'\n",
       "7. 'A'\n",
       "8. 'D'\n",
       "9. 'D'\n",
       "10. 'D'\n",
       "11. 'A'\n",
       "12. 'A'\n",
       "13. 'A'\n",
       "14. 'C'\n",
       "15. 'B'\n",
       "16. 'D'\n",
       "17. 'C'\n",
       "18. 'C'\n",
       "19. 'B'\n",
       "20. 'D'\n",
       "\n",
       "\n"
      ],
      "text/plain": [
       " [1] \"C\" \"B\" \"B\" \"A\" \"B\" \"C\" \"A\" \"D\" \"D\" \"D\" \"A\" \"A\" \"A\" \"C\" \"B\" \"D\" \"C\" \"C\" \"B\"\n",
       "[20] \"D\""
      ]
     },
     "metadata": {},
     "output_type": "display_data"
    }
   ],
   "source": [
    "指導法"
   ]
  },
  {
   "cell_type": "code",
   "execution_count": 3,
   "metadata": {
    "collapsed": false,
    "deletable": true,
    "editable": true
   },
   "outputs": [
    {
     "data": {
      "text/plain": [
       "指導法\n",
       "A B C D \n",
       "5 5 5 5 "
      ]
     },
     "metadata": {},
     "output_type": "display_data"
    }
   ],
   "source": [
    "table(指導法)"
   ]
  },
  {
   "cell_type": "code",
   "execution_count": 65,
   "metadata": {
    "collapsed": true,
    "deletable": true,
    "editable": true
   },
   "outputs": [],
   "source": [
    "心理学テスト <- c(13,14,7,12,10,6,8,15,4,14,9,6,10,12,5,12,8,8,12,15)"
   ]
  },
  {
   "cell_type": "code",
   "execution_count": 5,
   "metadata": {
    "collapsed": false,
    "deletable": true,
    "editable": true
   },
   "outputs": [
    {
     "data": {
      "text/html": [
       "<ol class=list-inline>\n",
       "\t<li>13</li>\n",
       "\t<li>14</li>\n",
       "\t<li>7</li>\n",
       "\t<li>12</li>\n",
       "\t<li>10</li>\n",
       "\t<li>6</li>\n",
       "\t<li>8</li>\n",
       "\t<li>15</li>\n",
       "\t<li>4</li>\n",
       "\t<li>14</li>\n",
       "\t<li>9</li>\n",
       "\t<li>6</li>\n",
       "\t<li>10</li>\n",
       "\t<li>12</li>\n",
       "\t<li>5</li>\n",
       "\t<li>12</li>\n",
       "\t<li>8</li>\n",
       "\t<li>8</li>\n",
       "\t<li>12</li>\n",
       "\t<li>15</li>\n",
       "</ol>\n"
      ],
      "text/latex": [
       "\\begin{enumerate*}\n",
       "\\item 13\n",
       "\\item 14\n",
       "\\item 7\n",
       "\\item 12\n",
       "\\item 10\n",
       "\\item 6\n",
       "\\item 8\n",
       "\\item 15\n",
       "\\item 4\n",
       "\\item 14\n",
       "\\item 9\n",
       "\\item 6\n",
       "\\item 10\n",
       "\\item 12\n",
       "\\item 5\n",
       "\\item 12\n",
       "\\item 8\n",
       "\\item 8\n",
       "\\item 12\n",
       "\\item 15\n",
       "\\end{enumerate*}\n"
      ],
      "text/markdown": [
       "1. 13\n",
       "2. 14\n",
       "3. 7\n",
       "4. 12\n",
       "5. 10\n",
       "6. 6\n",
       "7. 8\n",
       "8. 15\n",
       "9. 4\n",
       "10. 14\n",
       "11. 9\n",
       "12. 6\n",
       "13. 10\n",
       "14. 12\n",
       "15. 5\n",
       "16. 12\n",
       "17. 8\n",
       "18. 8\n",
       "19. 12\n",
       "20. 15\n",
       "\n",
       "\n"
      ],
      "text/plain": [
       " [1] 13 14  7 12 10  6  8 15  4 14  9  6 10 12  5 12  8  8 12 15"
      ]
     },
     "metadata": {},
     "output_type": "display_data"
    }
   ],
   "source": [
    "心理学テスト"
   ]
  },
  {
   "cell_type": "code",
   "execution_count": 6,
   "metadata": {
    "collapsed": false,
    "deletable": true,
    "editable": true
   },
   "outputs": [
    {
     "data": {
      "image/png": "[encoded data removed]",
      "text/plain": [
       "Plot with title “Histogram of 心理学テスト”"
      ]
     },
     "metadata": {},
     "output_type": "display_data"
    }
   ],
   "source": [
    "hist(心理学テスト)"
   ]
  },
  {
   "cell_type": "code",
   "execution_count": 7,
   "metadata": {
    "collapsed": false,
    "deletable": true,
    "editable": true
   },
   "outputs": [
    {
     "data": {
      "text/html": [
       "54"
      ],
      "text/latex": [
       "54"
      ],
      "text/markdown": [
       "54"
      ],
      "text/plain": [
       "[1] 54"
      ]
     },
     "metadata": {},
     "output_type": "display_data"
    }
   ],
   "source": [
    "sum(10,13,8,15,8)"
   ]
  },
  {
   "cell_type": "code",
   "execution_count": 9,
   "metadata": {
    "collapsed": false,
    "deletable": true,
    "editable": true
   },
   "outputs": [],
   "source": [
    "テストa <- c(10,13,8,15,8)"
   ]
  },
  {
   "cell_type": "code",
   "execution_count": 10,
   "metadata": {
    "collapsed": false,
    "deletable": true,
    "editable": true
   },
   "outputs": [
    {
     "data": {
      "text/html": [
       "<ol class=list-inline>\n",
       "\t<li>10</li>\n",
       "\t<li>13</li>\n",
       "\t<li>8</li>\n",
       "\t<li>15</li>\n",
       "\t<li>8</li>\n",
       "</ol>\n"
      ],
      "text/latex": [
       "\\begin{enumerate*}\n",
       "\\item 10\n",
       "\\item 13\n",
       "\\item 8\n",
       "\\item 15\n",
       "\\item 8\n",
       "\\end{enumerate*}\n"
      ],
      "text/markdown": [
       "1. 10\n",
       "2. 13\n",
       "3. 8\n",
       "4. 15\n",
       "5. 8\n",
       "\n",
       "\n"
      ],
      "text/plain": [
       "[1] 10 13  8 15  8"
      ]
     },
     "metadata": {},
     "output_type": "display_data"
    }
   ],
   "source": [
    "テストa"
   ]
  },
  {
   "cell_type": "code",
   "execution_count": 11,
   "metadata": {
    "collapsed": false,
    "deletable": true,
    "editable": true
   },
   "outputs": [
    {
     "data": {
      "text/html": [
       "54"
      ],
      "text/latex": [
       "54"
      ],
      "text/markdown": [
       "54"
      ],
      "text/plain": [
       "[1] 54"
      ]
     },
     "metadata": {},
     "output_type": "display_data"
    }
   ],
   "source": [
    "sum(テストa)"
   ]
  },
  {
   "cell_type": "code",
   "execution_count": 13,
   "metadata": {
    "collapsed": false,
    "deletable": true,
    "editable": true
   },
   "outputs": [
    {
     "data": {
      "text/html": [
       "10.8"
      ],
      "text/latex": [
       "10.8"
      ],
      "text/markdown": [
       "10.8"
      ],
      "text/plain": [
       "[1] 10.8"
      ]
     },
     "metadata": {},
     "output_type": "display_data"
    }
   ],
   "source": [
    "sum(テストa)/length(テストa)"
   ]
  },
  {
   "cell_type": "code",
   "execution_count": 14,
   "metadata": {
    "collapsed": false,
    "deletable": true,
    "editable": true
   },
   "outputs": [
    {
     "data": {
      "text/html": [
       "10.8"
      ],
      "text/latex": [
       "10.8"
      ],
      "text/markdown": [
       "10.8"
      ],
      "text/plain": [
       "[1] 10.8"
      ]
     },
     "metadata": {},
     "output_type": "display_data"
    }
   ],
   "source": [
    "mean(テストa)"
   ]
  },
  {
   "cell_type": "code",
   "execution_count": 15,
   "metadata": {
    "collapsed": false,
    "deletable": true,
    "editable": true
   },
   "outputs": [
    {
     "data": {
      "text/html": [
       "10"
      ],
      "text/latex": [
       "10"
      ],
      "text/markdown": [
       "10"
      ],
      "text/plain": [
       "[1] 10"
      ]
     },
     "metadata": {},
     "output_type": "display_data"
    }
   ],
   "source": [
    "median(テストa)"
   ]
  },
  {
   "cell_type": "code",
   "execution_count": 16,
   "metadata": {
    "collapsed": false,
    "deletable": true,
    "editable": true
   },
   "outputs": [
    {
     "data": {
      "text/plain": [
       "テストa\n",
       " 8 10 13 15 \n",
       " 2  1  1  1 "
      ]
     },
     "metadata": {},
     "output_type": "display_data"
    }
   ],
   "source": [
    "table(テストa)"
   ]
  },
  {
   "cell_type": "code",
   "execution_count": 17,
   "metadata": {
    "collapsed": true,
    "deletable": true,
    "editable": true
   },
   "outputs": [],
   "source": [
    "テストa平均 <-mean(テストa)"
   ]
  },
  {
   "cell_type": "code",
   "execution_count": 18,
   "metadata": {
    "collapsed": false,
    "deletable": true,
    "editable": true
   },
   "outputs": [
    {
     "data": {
      "text/html": [
       "10.8"
      ],
      "text/latex": [
       "10.8"
      ],
      "text/markdown": [
       "10.8"
      ],
      "text/plain": [
       "[1] 10.8"
      ]
     },
     "metadata": {},
     "output_type": "display_data"
    }
   ],
   "source": [
    "テストa平均"
   ]
  },
  {
   "cell_type": "code",
   "execution_count": 19,
   "metadata": {
    "collapsed": true,
    "deletable": true,
    "editable": true
   },
   "outputs": [],
   "source": [
    "平均からの偏差 <- テストa-テストa平均"
   ]
  },
  {
   "cell_type": "code",
   "execution_count": 20,
   "metadata": {
    "collapsed": false,
    "deletable": true,
    "editable": true
   },
   "outputs": [
    {
     "data": {
      "text/html": [
       "<ol class=list-inline>\n",
       "\t<li>-0.800000000000001</li>\n",
       "\t<li>2.2</li>\n",
       "\t<li>-2.8</li>\n",
       "\t<li>4.2</li>\n",
       "\t<li>-2.8</li>\n",
       "</ol>\n"
      ],
      "text/latex": [
       "\\begin{enumerate*}\n",
       "\\item -0.800000000000001\n",
       "\\item 2.2\n",
       "\\item -2.8\n",
       "\\item 4.2\n",
       "\\item -2.8\n",
       "\\end{enumerate*}\n"
      ],
      "text/markdown": [
       "1. -0.800000000000001\n",
       "2. 2.2\n",
       "3. -2.8\n",
       "4. 4.2\n",
       "5. -2.8\n",
       "\n",
       "\n"
      ],
      "text/plain": [
       "[1] -0.8  2.2 -2.8  4.2 -2.8"
      ]
     },
     "metadata": {},
     "output_type": "display_data"
    }
   ],
   "source": [
    "平均からの偏差"
   ]
  },
  {
   "cell_type": "code",
   "execution_count": 21,
   "metadata": {
    "collapsed": true,
    "deletable": true,
    "editable": true
   },
   "outputs": [],
   "source": [
    "平均からの偏差の二乗 <- 平均からの偏差^2"
   ]
  },
  {
   "cell_type": "code",
   "execution_count": 22,
   "metadata": {
    "collapsed": false,
    "deletable": true,
    "editable": true
   },
   "outputs": [
    {
     "data": {
      "text/html": [
       "<ol class=list-inline>\n",
       "\t<li>0.640000000000001</li>\n",
       "\t<li>4.84</li>\n",
       "\t<li>7.84</li>\n",
       "\t<li>17.64</li>\n",
       "\t<li>7.84</li>\n",
       "</ol>\n"
      ],
      "text/latex": [
       "\\begin{enumerate*}\n",
       "\\item 0.640000000000001\n",
       "\\item 4.84\n",
       "\\item 7.84\n",
       "\\item 17.64\n",
       "\\item 7.84\n",
       "\\end{enumerate*}\n"
      ],
      "text/markdown": [
       "1. 0.640000000000001\n",
       "2. 4.84\n",
       "3. 7.84\n",
       "4. 17.64\n",
       "5. 7.84\n",
       "\n",
       "\n"
      ],
      "text/plain": [
       "[1]  0.64  4.84  7.84 17.64  7.84"
      ]
     },
     "metadata": {},
     "output_type": "display_data"
    }
   ],
   "source": [
    "平均からの偏差の二乗"
   ]
  },
  {
   "cell_type": "code",
   "execution_count": 23,
   "metadata": {
    "collapsed": true,
    "deletable": true,
    "editable": true
   },
   "outputs": [],
   "source": [
    "平均からの偏差の二乗和 <- sum(平均からの偏差の二乗)"
   ]
  },
  {
   "cell_type": "code",
   "execution_count": 24,
   "metadata": {
    "collapsed": false,
    "deletable": true,
    "editable": true
   },
   "outputs": [
    {
     "data": {
      "text/html": [
       "38.8"
      ],
      "text/latex": [
       "38.8"
      ],
      "text/markdown": [
       "38.8"
      ],
      "text/plain": [
       "[1] 38.8"
      ]
     },
     "metadata": {},
     "output_type": "display_data"
    }
   ],
   "source": [
    "平均からの偏差の二乗和"
   ]
  },
  {
   "cell_type": "code",
   "execution_count": 26,
   "metadata": {
    "collapsed": false,
    "deletable": true,
    "editable": true
   },
   "outputs": [],
   "source": [
    "データ数 <- length(テストa)"
   ]
  },
  {
   "cell_type": "code",
   "execution_count": 27,
   "metadata": {
    "collapsed": false,
    "deletable": true,
    "editable": true
   },
   "outputs": [
    {
     "data": {
      "text/html": [
       "5"
      ],
      "text/latex": [
       "5"
      ],
      "text/markdown": [
       "5"
      ],
      "text/plain": [
       "[1] 5"
      ]
     },
     "metadata": {},
     "output_type": "display_data"
    }
   ],
   "source": [
    "データ数"
   ]
  },
  {
   "cell_type": "code",
   "execution_count": 28,
   "metadata": {
    "collapsed": true,
    "deletable": true,
    "editable": true
   },
   "outputs": [],
   "source": [
    "分散 <- 平均からの偏差の二乗和/データ数"
   ]
  },
  {
   "cell_type": "code",
   "execution_count": 29,
   "metadata": {
    "collapsed": false,
    "deletable": true,
    "editable": true
   },
   "outputs": [
    {
     "data": {
      "text/html": [
       "7.76"
      ],
      "text/latex": [
       "7.76"
      ],
      "text/markdown": [
       "7.76"
      ],
      "text/plain": [
       "[1] 7.76"
      ]
     },
     "metadata": {},
     "output_type": "display_data"
    }
   ],
   "source": [
    "分散"
   ]
  },
  {
   "cell_type": "code",
   "execution_count": 30,
   "metadata": {
    "collapsed": false,
    "deletable": true,
    "editable": true
   },
   "outputs": [
    {
     "data": {
      "text/html": [
       "2.78567765543682"
      ],
      "text/latex": [
       "2.78567765543682"
      ],
      "text/markdown": [
       "2.78567765543682"
      ],
      "text/plain": [
       "[1] 2.785678"
      ]
     },
     "metadata": {},
     "output_type": "display_data"
    }
   ],
   "source": [
    "sqrt(分散)"
   ]
  },
  {
   "cell_type": "code",
   "execution_count": 31,
   "metadata": {
    "collapsed": false,
    "deletable": true,
    "editable": true
   },
   "outputs": [
    {
     "data": {
      "text/html": [
       "9.7"
      ],
      "text/latex": [
       "9.7"
      ],
      "text/markdown": [
       "9.7"
      ],
      "text/plain": [
       "[1] 9.7"
      ]
     },
     "metadata": {},
     "output_type": "display_data"
    }
   ],
   "source": [
    "var(テストa)"
   ]
  },
  {
   "cell_type": "code",
   "execution_count": 32,
   "metadata": {
    "collapsed": false,
    "deletable": true,
    "editable": true
   },
   "outputs": [
    {
     "data": {
      "text/html": [
       "38.8"
      ],
      "text/latex": [
       "38.8"
      ],
      "text/markdown": [
       "38.8"
      ],
      "text/plain": [
       "[1] 38.8"
      ]
     },
     "metadata": {},
     "output_type": "display_data"
    }
   ],
   "source": [
    "平均からの偏差の二乗和"
   ]
  },
  {
   "cell_type": "code",
   "execution_count": 33,
   "metadata": {
    "collapsed": false,
    "deletable": true,
    "editable": true
   },
   "outputs": [
    {
     "data": {
      "text/html": [
       "7.76"
      ],
      "text/latex": [
       "7.76"
      ],
      "text/markdown": [
       "7.76"
      ],
      "text/plain": [
       "[1] 7.76"
      ]
     },
     "metadata": {},
     "output_type": "display_data"
    }
   ],
   "source": [
    "平均からの偏差の二乗和/5"
   ]
  },
  {
   "cell_type": "code",
   "execution_count": 34,
   "metadata": {
    "collapsed": false,
    "deletable": true,
    "editable": true
   },
   "outputs": [
    {
     "data": {
      "text/html": [
       "9.7"
      ],
      "text/latex": [
       "9.7"
      ],
      "text/markdown": [
       "9.7"
      ],
      "text/plain": [
       "[1] 9.7"
      ]
     },
     "metadata": {},
     "output_type": "display_data"
    }
   ],
   "source": [
    "平均からの偏差の二乗和/4"
   ]
  },
  {
   "cell_type": "code",
   "execution_count": 36,
   "metadata": {
    "collapsed": false,
    "deletable": true,
    "editable": true
   },
   "outputs": [],
   "source": [
    "不偏分散 <- var(テストa)"
   ]
  },
  {
   "cell_type": "code",
   "execution_count": 37,
   "metadata": {
    "collapsed": false,
    "deletable": true,
    "editable": true
   },
   "outputs": [
    {
     "data": {
      "text/html": [
       "9.7"
      ],
      "text/latex": [
       "9.7"
      ],
      "text/markdown": [
       "9.7"
      ],
      "text/plain": [
       "[1] 9.7"
      ]
     },
     "metadata": {},
     "output_type": "display_data"
    }
   ],
   "source": [
    "不偏分散"
   ]
  },
  {
   "cell_type": "code",
   "execution_count": 38,
   "metadata": {
    "collapsed": true,
    "deletable": true,
    "editable": true
   },
   "outputs": [],
   "source": [
    "標本分散 <- 不偏分散*(データ数-1)/データ数"
   ]
  },
  {
   "cell_type": "code",
   "execution_count": 39,
   "metadata": {
    "collapsed": false,
    "deletable": true,
    "editable": true
   },
   "outputs": [
    {
     "data": {
      "text/html": [
       "7.76"
      ],
      "text/latex": [
       "7.76"
      ],
      "text/markdown": [
       "7.76"
      ],
      "text/plain": [
       "[1] 7.76"
      ]
     },
     "metadata": {},
     "output_type": "display_data"
    }
   ],
   "source": [
    "標本分散"
   ]
  },
  {
   "cell_type": "code",
   "execution_count": 41,
   "metadata": {
    "collapsed": false,
    "deletable": true,
    "editable": true
   },
   "outputs": [
    {
     "data": {
      "text/html": [
       "3.11448230047949"
      ],
      "text/latex": [
       "3.11448230047949"
      ],
      "text/markdown": [
       "3.11448230047949"
      ],
      "text/plain": [
       "[1] 3.114482"
      ]
     },
     "metadata": {},
     "output_type": "display_data"
    }
   ],
   "source": [
    "sd(テストa)"
   ]
  },
  {
   "cell_type": "code",
   "execution_count": 43,
   "metadata": {
    "collapsed": false,
    "deletable": true,
    "editable": true
   },
   "outputs": [
    {
     "data": {
      "text/html": [
       "2.78567765543682"
      ],
      "text/latex": [
       "2.78567765543682"
      ],
      "text/markdown": [
       "2.78567765543682"
      ],
      "text/plain": [
       "[1] 2.785678"
      ]
     },
     "metadata": {},
     "output_type": "display_data"
    }
   ],
   "source": [
    "sqrt(sd(テストa)^2*(データ数-1)/データ数)"
   ]
  },
  {
   "cell_type": "code",
   "execution_count": 44,
   "metadata": {
    "collapsed": false,
    "deletable": true,
    "editable": true
   },
   "outputs": [
    {
     "data": {
      "text/html": [
       "2.78567765543682"
      ],
      "text/latex": [
       "2.78567765543682"
      ],
      "text/markdown": [
       "2.78567765543682"
      ],
      "text/plain": [
       "[1] 2.785678"
      ]
     },
     "metadata": {},
     "output_type": "display_data"
    }
   ],
   "source": [
    "sqrt(標本分散)"
   ]
  },
  {
   "cell_type": "code",
   "execution_count": 45,
   "metadata": {
    "collapsed": false,
    "deletable": true,
    "editable": true
   },
   "outputs": [
    {
     "data": {
      "text/html": [
       "<ol class=list-inline>\n",
       "\t<li>10</li>\n",
       "\t<li>13</li>\n",
       "\t<li>8</li>\n",
       "\t<li>15</li>\n",
       "\t<li>8</li>\n",
       "</ol>\n"
      ],
      "text/latex": [
       "\\begin{enumerate*}\n",
       "\\item 10\n",
       "\\item 13\n",
       "\\item 8\n",
       "\\item 15\n",
       "\\item 8\n",
       "\\end{enumerate*}\n"
      ],
      "text/markdown": [
       "1. 10\n",
       "2. 13\n",
       "3. 8\n",
       "4. 15\n",
       "5. 8\n",
       "\n",
       "\n"
      ],
      "text/plain": [
       "[1] 10 13  8 15  8"
      ]
     },
     "metadata": {},
     "output_type": "display_data"
    }
   ],
   "source": [
    "テストa"
   ]
  },
  {
   "cell_type": "code",
   "execution_count": 46,
   "metadata": {
    "collapsed": false,
    "deletable": true,
    "editable": true
   },
   "outputs": [
    {
     "data": {
      "text/html": [
       "10.8"
      ],
      "text/latex": [
       "10.8"
      ],
      "text/markdown": [
       "10.8"
      ],
      "text/plain": [
       "[1] 10.8"
      ]
     },
     "metadata": {},
     "output_type": "display_data"
    }
   ],
   "source": [
    "mean(テストa)"
   ]
  },
  {
   "cell_type": "code",
   "execution_count": 47,
   "metadata": {
    "collapsed": false,
    "deletable": true,
    "editable": true
   },
   "outputs": [
    {
     "data": {
      "text/html": [
       "<ol class=list-inline>\n",
       "\t<li>-0.800000000000001</li>\n",
       "\t<li>2.2</li>\n",
       "\t<li>-2.8</li>\n",
       "\t<li>4.2</li>\n",
       "\t<li>-2.8</li>\n",
       "</ol>\n"
      ],
      "text/latex": [
       "\\begin{enumerate*}\n",
       "\\item -0.800000000000001\n",
       "\\item 2.2\n",
       "\\item -2.8\n",
       "\\item 4.2\n",
       "\\item -2.8\n",
       "\\end{enumerate*}\n"
      ],
      "text/markdown": [
       "1. -0.800000000000001\n",
       "2. 2.2\n",
       "3. -2.8\n",
       "4. 4.2\n",
       "5. -2.8\n",
       "\n",
       "\n"
      ],
      "text/plain": [
       "[1] -0.8  2.2 -2.8  4.2 -2.8"
      ]
     },
     "metadata": {},
     "output_type": "display_data"
    }
   ],
   "source": [
    "テストa-mean(テストa)"
   ]
  },
  {
   "cell_type": "code",
   "execution_count": 49,
   "metadata": {
    "collapsed": false,
    "deletable": true,
    "editable": true
   },
   "outputs": [
    {
     "data": {
      "text/html": [
       "2.56"
      ],
      "text/latex": [
       "2.56"
      ],
      "text/markdown": [
       "2.56"
      ],
      "text/plain": [
       "[1] 2.56"
      ]
     },
     "metadata": {},
     "output_type": "display_data"
    }
   ],
   "source": [
    "mean(abs(テストa-mean(テストa)))"
   ]
  },
  {
   "cell_type": "code",
   "execution_count": 50,
   "metadata": {
    "collapsed": false,
    "deletable": true,
    "editable": true
   },
   "outputs": [
    {
     "data": {
      "text/html": [
       "15"
      ],
      "text/latex": [
       "15"
      ],
      "text/markdown": [
       "15"
      ],
      "text/plain": [
       "[1] 15"
      ]
     },
     "metadata": {},
     "output_type": "display_data"
    }
   ],
   "source": [
    "max(テストa)"
   ]
  },
  {
   "cell_type": "code",
   "execution_count": 51,
   "metadata": {
    "collapsed": false,
    "deletable": true,
    "editable": true
   },
   "outputs": [
    {
     "data": {
      "text/html": [
       "8"
      ],
      "text/latex": [
       "8"
      ],
      "text/markdown": [
       "8"
      ],
      "text/plain": [
       "[1] 8"
      ]
     },
     "metadata": {},
     "output_type": "display_data"
    }
   ],
   "source": [
    "min(テストa)"
   ]
  },
  {
   "cell_type": "code",
   "execution_count": 52,
   "metadata": {
    "collapsed": false,
    "deletable": true,
    "editable": true
   },
   "outputs": [
    {
     "data": {
      "text/html": [
       "7"
      ],
      "text/latex": [
       "7"
      ],
      "text/markdown": [
       "7"
      ],
      "text/plain": [
       "[1] 7"
      ]
     },
     "metadata": {},
     "output_type": "display_data"
    }
   ],
   "source": [
    "max(テストa)-min(テストa)"
   ]
  },
  {
   "cell_type": "code",
   "execution_count": 53,
   "metadata": {
    "collapsed": true,
    "deletable": true,
    "editable": true
   },
   "outputs": [],
   "source": [
    "心理学平均 <-mean(心理学テスト)"
   ]
  },
  {
   "cell_type": "code",
   "execution_count": 54,
   "metadata": {
    "collapsed": false,
    "deletable": true,
    "editable": true
   },
   "outputs": [
    {
     "data": {
      "text/html": [
       "10"
      ],
      "text/latex": [
       "10"
      ],
      "text/markdown": [
       "10"
      ],
      "text/plain": [
       "[1] 10"
      ]
     },
     "metadata": {},
     "output_type": "display_data"
    }
   ],
   "source": [
    "心理学平均"
   ]
  },
  {
   "cell_type": "code",
   "execution_count": 55,
   "metadata": {
    "collapsed": true,
    "deletable": true,
    "editable": true
   },
   "outputs": [],
   "source": [
    "心理学標準偏差 <- sqrt(mean((心理学テスト -心理学平均)^2))"
   ]
  },
  {
   "cell_type": "code",
   "execution_count": 56,
   "metadata": {
    "collapsed": false,
    "deletable": true,
    "editable": true
   },
   "outputs": [
    {
     "data": {
      "text/html": [
       "3.33166624979154"
      ],
      "text/latex": [
       "3.33166624979154"
      ],
      "text/markdown": [
       "3.33166624979154"
      ],
      "text/plain": [
       "[1] 3.331666"
      ]
     },
     "metadata": {},
     "output_type": "display_data"
    }
   ],
   "source": [
    "心理学標準偏差"
   ]
  },
  {
   "cell_type": "code",
   "execution_count": 57,
   "metadata": {
    "collapsed": true,
    "deletable": true,
    "editable": true
   },
   "outputs": [],
   "source": [
    "心理学z得点 <- (心理学テスト -心理学平均)/心理学標準偏差"
   ]
  },
  {
   "cell_type": "code",
   "execution_count": 58,
   "metadata": {
    "collapsed": false,
    "deletable": true,
    "editable": true
   },
   "outputs": [
    {
     "data": {
      "text/html": [
       "<ol class=list-inline>\n",
       "\t<li>0.900450337781496</li>\n",
       "\t<li>1.20060045037533</li>\n",
       "\t<li>-0.900450337781496</li>\n",
       "\t<li>0.600300225187664</li>\n",
       "\t<li>0</li>\n",
       "\t<li>-1.20060045037533</li>\n",
       "\t<li>-0.600300225187664</li>\n",
       "\t<li>1.50075056296916</li>\n",
       "\t<li>-1.80090067556299</li>\n",
       "\t<li>1.20060045037533</li>\n",
       "\t<li>-0.300150112593832</li>\n",
       "\t<li>-1.20060045037533</li>\n",
       "\t<li>0</li>\n",
       "\t<li>0.600300225187664</li>\n",
       "\t<li>-1.50075056296916</li>\n",
       "\t<li>0.600300225187664</li>\n",
       "\t<li>-0.600300225187664</li>\n",
       "\t<li>-0.600300225187664</li>\n",
       "\t<li>0.600300225187664</li>\n",
       "\t<li>1.50075056296916</li>\n",
       "</ol>\n"
      ],
      "text/latex": [
       "\\begin{enumerate*}\n",
       "\\item 0.900450337781496\n",
       "\\item 1.20060045037533\n",
       "\\item -0.900450337781496\n",
       "\\item 0.600300225187664\n",
       "\\item 0\n",
       "\\item -1.20060045037533\n",
       "\\item -0.600300225187664\n",
       "\\item 1.50075056296916\n",
       "\\item -1.80090067556299\n",
       "\\item 1.20060045037533\n",
       "\\item -0.300150112593832\n",
       "\\item -1.20060045037533\n",
       "\\item 0\n",
       "\\item 0.600300225187664\n",
       "\\item -1.50075056296916\n",
       "\\item 0.600300225187664\n",
       "\\item -0.600300225187664\n",
       "\\item -0.600300225187664\n",
       "\\item 0.600300225187664\n",
       "\\item 1.50075056296916\n",
       "\\end{enumerate*}\n"
      ],
      "text/markdown": [
       "1. 0.900450337781496\n",
       "2. 1.20060045037533\n",
       "3. -0.900450337781496\n",
       "4. 0.600300225187664\n",
       "5. 0\n",
       "6. -1.20060045037533\n",
       "7. -0.600300225187664\n",
       "8. 1.50075056296916\n",
       "9. -1.80090067556299\n",
       "10. 1.20060045037533\n",
       "11. -0.300150112593832\n",
       "12. -1.20060045037533\n",
       "13. 0\n",
       "14. 0.600300225187664\n",
       "15. -1.50075056296916\n",
       "16. 0.600300225187664\n",
       "17. -0.600300225187664\n",
       "18. -0.600300225187664\n",
       "19. 0.600300225187664\n",
       "20. 1.50075056296916\n",
       "\n",
       "\n"
      ],
      "text/plain": [
       " [1]  0.9004503  1.2006005 -0.9004503  0.6003002  0.0000000 -1.2006005\n",
       " [7] -0.6003002  1.5007506 -1.8009007  1.2006005 -0.3001501 -1.2006005\n",
       "[13]  0.0000000  0.6003002 -1.5007506  0.6003002 -0.6003002 -0.6003002\n",
       "[19]  0.6003002  1.5007506"
      ]
     },
     "metadata": {},
     "output_type": "display_data"
    }
   ],
   "source": [
    "心理学z得点"
   ]
  },
  {
   "cell_type": "code",
   "execution_count": 59,
   "metadata": {
    "collapsed": true,
    "deletable": true,
    "editable": true
   },
   "outputs": [],
   "source": [
    "心理学z得点平均 <- mean(心理学z得点)"
   ]
  },
  {
   "cell_type": "code",
   "execution_count": 60,
   "metadata": {
    "collapsed": false,
    "deletable": true,
    "editable": true
   },
   "outputs": [
    {
     "data": {
      "text/html": [
       "-2.75387351811318e-18"
      ],
      "text/latex": [
       "-2.75387351811318e-18"
      ],
      "text/markdown": [
       "-2.75387351811318e-18"
      ],
      "text/plain": [
       "[1] -2.753874e-18"
      ]
     },
     "metadata": {},
     "output_type": "display_data"
    }
   ],
   "source": [
    "心理学z得点平均"
   ]
  },
  {
   "cell_type": "code",
   "execution_count": 61,
   "metadata": {
    "collapsed": true,
    "deletable": true,
    "editable": true
   },
   "outputs": [],
   "source": [
    "心理学z得点標準偏差 <- sqrt(mean((心理学z得点-心理学z得点平均)^2))"
   ]
  },
  {
   "cell_type": "code",
   "execution_count": 62,
   "metadata": {
    "collapsed": false,
    "deletable": true,
    "editable": true
   },
   "outputs": [
    {
     "data": {
      "text/html": [
       "1"
      ],
      "text/latex": [
       "1"
      ],
      "text/markdown": [
       "1"
      ],
      "text/plain": [
       "[1] 1"
      ]
     },
     "metadata": {},
     "output_type": "display_data"
    }
   ],
   "source": [
    "心理学z得点標準偏差"
   ]
  },
  {
   "cell_type": "code",
   "execution_count": 63,
   "metadata": {
    "collapsed": true,
    "deletable": true,
    "editable": true
   },
   "outputs": [],
   "source": [
    "心理学偏差値 <- 10*心理学z得点+50"
   ]
  },
  {
   "cell_type": "code",
   "execution_count": 64,
   "metadata": {
    "collapsed": false,
    "deletable": true,
    "editable": true
   },
   "outputs": [
    {
     "data": {
      "text/html": [
       "<ol class=list-inline>\n",
       "\t<li>59.004503377815</li>\n",
       "\t<li>62.0060045037533</li>\n",
       "\t<li>40.995496622185</li>\n",
       "\t<li>56.0030022518766</li>\n",
       "\t<li>50</li>\n",
       "\t<li>37.9939954962467</li>\n",
       "\t<li>43.9969977481234</li>\n",
       "\t<li>65.0075056296916</li>\n",
       "\t<li>31.9909932443701</li>\n",
       "\t<li>62.0060045037533</li>\n",
       "\t<li>46.9984988740617</li>\n",
       "\t<li>37.9939954962467</li>\n",
       "\t<li>50</li>\n",
       "\t<li>56.0030022518766</li>\n",
       "\t<li>34.9924943703084</li>\n",
       "\t<li>56.0030022518766</li>\n",
       "\t<li>43.9969977481234</li>\n",
       "\t<li>43.9969977481234</li>\n",
       "\t<li>56.0030022518766</li>\n",
       "\t<li>65.0075056296916</li>\n",
       "</ol>\n"
      ],
      "text/latex": [
       "\\begin{enumerate*}\n",
       "\\item 59.004503377815\n",
       "\\item 62.0060045037533\n",
       "\\item 40.995496622185\n",
       "\\item 56.0030022518766\n",
       "\\item 50\n",
       "\\item 37.9939954962467\n",
       "\\item 43.9969977481234\n",
       "\\item 65.0075056296916\n",
       "\\item 31.9909932443701\n",
       "\\item 62.0060045037533\n",
       "\\item 46.9984988740617\n",
       "\\item 37.9939954962467\n",
       "\\item 50\n",
       "\\item 56.0030022518766\n",
       "\\item 34.9924943703084\n",
       "\\item 56.0030022518766\n",
       "\\item 43.9969977481234\n",
       "\\item 43.9969977481234\n",
       "\\item 56.0030022518766\n",
       "\\item 65.0075056296916\n",
       "\\end{enumerate*}\n"
      ],
      "text/markdown": [
       "1. 59.004503377815\n",
       "2. 62.0060045037533\n",
       "3. 40.995496622185\n",
       "4. 56.0030022518766\n",
       "5. 50\n",
       "6. 37.9939954962467\n",
       "7. 43.9969977481234\n",
       "8. 65.0075056296916\n",
       "9. 31.9909932443701\n",
       "10. 62.0060045037533\n",
       "11. 46.9984988740617\n",
       "12. 37.9939954962467\n",
       "13. 50\n",
       "14. 56.0030022518766\n",
       "15. 34.9924943703084\n",
       "16. 56.0030022518766\n",
       "17. 43.9969977481234\n",
       "18. 43.9969977481234\n",
       "19. 56.0030022518766\n",
       "20. 65.0075056296916\n",
       "\n",
       "\n"
      ],
      "text/plain": [
       " [1] 59.00450 62.00600 40.99550 56.00300 50.00000 37.99400 43.99700 65.00751\n",
       " [9] 31.99099 62.00600 46.99850 37.99400 50.00000 56.00300 34.99249 56.00300\n",
       "[17] 43.99700 43.99700 56.00300 65.00751"
      ]
     },
     "metadata": {},
     "output_type": "display_data"
    }
   ],
   "source": [
    "心理学偏差値"
   ]
  },
  {
   "cell_type": "code",
   "execution_count": null,
   "metadata": {
    "collapsed": true,
    "deletable": true,
    "editable": true
   },
   "outputs": [],
   "source": []
  }
 ],
 "metadata": {
  "kernelspec": {
   "display_name": "R",
   "language": "R",
   "name": "ir"
  },
  "language_info": {
   "codemirror_mode": "r",
   "file_extension": ".r",
   "mimetype": "text/x-r-source",
   "name": "R",
   "pygments_lexer": "r",
   "version": "3.4.1"
  },
  "toc": {
   "colors": {
    "hover_highlight": "#DAA520",
    "navigate_num": "#000000",
    "navigate_text": "#333333",
    "running_highlight": "#FF0000",
    "selected_highlight": "#FFD700",
    "sidebar_border": "#EEEEEE",
    "wrapper_background": "#FFFFFF"
   },
   "moveMenuLeft": true,
   "nav_menu": {
    "height": "21px",
    "width": "254px"
   },
   "navigate_menu": true,
   "number_sections": false,
   "sideBar": true,
   "threshold": 4,
   "toc_cell": false,
   "toc_section_display": "block",
   "toc_window_display": false,
   "widenNotebook": false
  }
 },
 "nbformat": 4,
 "nbformat_minor": 2
}
